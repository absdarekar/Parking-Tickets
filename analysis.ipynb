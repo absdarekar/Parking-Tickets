{
 "cells": [
  {
   "cell_type": "markdown",
   "metadata": {},
   "source": [
    "# Start spark application (spark session)"
   ]
  },
  {
   "cell_type": "code",
   "execution_count": 1,
   "metadata": {},
   "outputs": [
    {
     "data": {
      "application/vnd.jupyter.widget-view+json": {
       "model_id": "09e51fd3df7a4ba69450e15b01a29481",
       "version_major": 2,
       "version_minor": 0
      },
      "text/plain": [
       "VBox()"
      ]
     },
     "metadata": {},
     "output_type": "display_data"
    },
    {
     "name": "stdout",
     "output_type": "stream",
     "text": [
      "Starting Spark application\n"
     ]
    },
    {
     "data": {
      "text/html": [
       "<table>\n",
       "<tr><th>ID</th><th>YARN Application ID</th><th>Kind</th><th>State</th><th>Spark UI</th><th>Driver log</th><th>Current session?</th></tr><tr><td>2</td><td>application_1649343105521_0003</td><td>pyspark</td><td>idle</td><td><a target=\"_blank\" href=\"http://ip-10-0-0-74.ec2.internal:20888/proxy/application_1649343105521_0003/\">Link</a></td><td><a target=\"_blank\" href=\"http://ip-10-0-0-74.ec2.internal:8042/node/containerlogs/container_1649343105521_0003_01_000001/livy\">Link</a></td><td>✔</td></tr></table>"
      ],
      "text/plain": [
       "<IPython.core.display.HTML object>"
      ]
     },
     "metadata": {},
     "output_type": "display_data"
    },
    {
     "data": {
      "application/vnd.jupyter.widget-view+json": {
       "model_id": "",
       "version_major": 2,
       "version_minor": 0
      },
      "text/plain": [
       "FloatProgress(value=0.0, bar_style='info', description='Progress:', layout=Layout(height='25px', width='50%'),…"
      ]
     },
     "metadata": {},
     "output_type": "display_data"
    },
    {
     "name": "stdout",
     "output_type": "stream",
     "text": [
      "SparkSession available as 'spark'.\n"
     ]
    },
    {
     "data": {
      "application/vnd.jupyter.widget-view+json": {
       "model_id": "",
       "version_major": 2,
       "version_minor": 0
      },
      "text/plain": [
       "FloatProgress(value=0.0, bar_style='info', description='Progress:', layout=Layout(height='25px', width='50%'),…"
      ]
     },
     "metadata": {},
     "output_type": "display_data"
    },
    {
     "name": "stdout",
     "output_type": "stream",
     "text": [
      "<pyspark.sql.session.SparkSession object at 0x7f0131aefbd0>"
     ]
    }
   ],
   "source": [
    "spark"
   ]
  },
  {
   "cell_type": "markdown",
   "metadata": {},
   "source": [
    "# Load ticket data from the S3 bucket"
   ]
  },
  {
   "cell_type": "code",
   "execution_count": 2,
   "metadata": {},
   "outputs": [
    {
     "data": {
      "application/vnd.jupyter.widget-view+json": {
       "model_id": "b7f24d305a014057bacbabee3ec8ca2b",
       "version_major": 2,
       "version_minor": 0
      },
      "text/plain": [
       "VBox()"
      ]
     },
     "metadata": {},
     "output_type": "display_data"
    },
    {
     "data": {
      "application/vnd.jupyter.widget-view+json": {
       "model_id": "",
       "version_major": 2,
       "version_minor": 0
      },
      "text/plain": [
       "FloatProgress(value=0.0, bar_style='info', description='Progress:', layout=Layout(height='25px', width='50%'),…"
      ]
     },
     "metadata": {},
     "output_type": "display_data"
    }
   ],
   "source": [
    "s3_path = \"s3a://upgrad-data/Parking_Violation_Tickets.csv\"\n",
    "tickets = spark.read.csv(s3_path, header = True, inferSchema = True)"
   ]
  },
  {
   "cell_type": "markdown",
   "metadata": {},
   "source": [
    "# Check schema of the dataframe"
   ]
  },
  {
   "cell_type": "code",
   "execution_count": 3,
   "metadata": {
    "scrolled": false
   },
   "outputs": [
    {
     "data": {
      "application/vnd.jupyter.widget-view+json": {
       "model_id": "e6c0d63663b6404b858615c2d5f3c473",
       "version_major": 2,
       "version_minor": 0
      },
      "text/plain": [
       "VBox()"
      ]
     },
     "metadata": {},
     "output_type": "display_data"
    },
    {
     "data": {
      "application/vnd.jupyter.widget-view+json": {
       "model_id": "",
       "version_major": 2,
       "version_minor": 0
      },
      "text/plain": [
       "FloatProgress(value=0.0, bar_style='info', description='Progress:', layout=Layout(height='25px', width='50%'),…"
      ]
     },
     "metadata": {},
     "output_type": "display_data"
    },
    {
     "name": "stdout",
     "output_type": "stream",
     "text": [
      "root\n",
      " |-- Summons Number: long (nullable = true)\n",
      " |-- Plate ID: string (nullable = true)\n",
      " |-- Registration State: string (nullable = true)\n",
      " |-- Plate Type: string (nullable = true)\n",
      " |-- Issue Date: string (nullable = true)\n",
      " |-- Violation Code: integer (nullable = true)\n",
      " |-- Vehicle Body Type: string (nullable = true)\n",
      " |-- Vehicle Make: string (nullable = true)\n",
      " |-- Issuing Agency: string (nullable = true)\n",
      " |-- Street Code1: integer (nullable = true)\n",
      " |-- Street Code2: integer (nullable = true)\n",
      " |-- Street Code3: integer (nullable = true)\n",
      " |-- Vehicle Expiration Date: integer (nullable = true)\n",
      " |-- Violation Location: integer (nullable = true)\n",
      " |-- Violation Precinct: integer (nullable = true)\n",
      " |-- Issuer Precinct: integer (nullable = true)\n",
      " |-- Issuer Code: integer (nullable = true)\n",
      " |-- Issuer Command: string (nullable = true)\n",
      " |-- Issuer Squad: string (nullable = true)\n",
      " |-- Violation Time: string (nullable = true)\n",
      " |-- Time First Observed: string (nullable = true)\n",
      " |-- Violation County: string (nullable = true)\n",
      " |-- Violation In Front Of Or Opposite: string (nullable = true)\n",
      " |-- House Number: string (nullable = true)\n",
      " |-- Street Name: string (nullable = true)\n",
      " |-- Intersecting Street: string (nullable = true)\n",
      " |-- Date First Observed: integer (nullable = true)\n",
      " |-- Law Section: integer (nullable = true)\n",
      " |-- Sub Division: string (nullable = true)\n",
      " |-- Violation Legal Code: string (nullable = true)\n",
      " |-- Days Parking In Effect    : string (nullable = true)\n",
      " |-- From Hours In Effect: string (nullable = true)\n",
      " |-- To Hours In Effect: string (nullable = true)\n",
      " |-- Vehicle Color: string (nullable = true)\n",
      " |-- Unregistered Vehicle?: integer (nullable = true)\n",
      " |-- Vehicle Year: integer (nullable = true)\n",
      " |-- Meter Number: string (nullable = true)\n",
      " |-- Feet From Curb: integer (nullable = true)\n",
      " |-- Violation Post Code: string (nullable = true)\n",
      " |-- Violation Description: string (nullable = true)\n",
      " |-- No Standing or Stopping Violation: string (nullable = true)\n",
      " |-- Hydrant Violation: string (nullable = true)\n",
      " |-- Double Parking Violation: string (nullable = true)"
     ]
    }
   ],
   "source": [
    "tickets.printSchema()"
   ]
  },
  {
   "cell_type": "raw",
   "metadata": {},
   "source": [
    "Output\n",
    "\n",
    "root\n",
    " |-- Summons Number: long (nullable = true)\n",
    " |-- Plate ID: string (nullable = true)\n",
    " |-- Registration State: string (nullable = true)\n",
    " |-- Plate Type: string (nullable = true)\n",
    " |-- Issue Date: string (nullable = true)\n",
    " |-- Violation Code: integer (nullable = true)\n",
    " |-- Vehicle Body Type: string (nullable = true)\n",
    " |-- Vehicle Make: string (nullable = true)\n",
    " |-- Issuing Agency: string (nullable = true)\n",
    " |-- Street Code1: integer (nullable = true)\n",
    " |-- Street Code2: integer (nullable = true)\n",
    " |-- Street Code3: integer (nullable = true)\n",
    " |-- Vehicle Expiration Date: integer (nullable = true)\n",
    " |-- Violation Location: integer (nullable = true)\n",
    " |-- Violation Precinct: integer (nullable = true)\n",
    " |-- Issuer Precinct: integer (nullable = true)\n",
    " |-- Issuer Code: integer (nullable = true)\n",
    " |-- Issuer Command: string (nullable = true)\n",
    " |-- Issuer Squad: string (nullable = true)\n",
    " |-- Violation Time: string (nullable = true)\n",
    " |-- Time First Observed: string (nullable = true)\n",
    " |-- Violation County: string (nullable = true)\n",
    " |-- Violation In Front Of Or Opposite: string (nullable = true)\n",
    " |-- House Number: string (nullable = true)\n",
    " |-- Street Name: string (nullable = true)\n",
    " |-- Intersecting Street: string (nullable = true)\n",
    " |-- Date First Observed: integer (nullable = true)\n",
    " |-- Law Section: integer (nullable = true)\n",
    " |-- Sub Division: string (nullable = true)\n",
    " |-- Violation Legal Code: string (nullable = true)\n",
    " |-- Days Parking In Effect    : string (nullable = true)\n",
    " |-- From Hours In Effect: string (nullable = true)\n",
    " |-- To Hours In Effect: string (nullable = true)\n",
    " |-- Vehicle Color: string (nullable = true)\n",
    " |-- Unregistered Vehicle?: integer (nullable = true)\n",
    " |-- Vehicle Year: integer (nullable = true)\n",
    " |-- Meter Number: string (nullable = true)\n",
    " |-- Feet From Curb: integer (nullable = true)\n",
    " |-- Violation Post Code: string (nullable = true)\n",
    " |-- Violation Description: string (nullable = true)\n",
    " |-- No Standing or Stopping Violation: string (nullable = true)\n",
    " |-- Hydrant Violation: string (nullable = true)\n",
    " |-- Double Parking Violation: string (nullable = true)"
   ]
  },
  {
   "cell_type": "markdown",
   "metadata": {},
   "source": [
    "# Import all SQL functions and create SQL view"
   ]
  },
  {
   "cell_type": "code",
   "execution_count": 4,
   "metadata": {},
   "outputs": [
    {
     "data": {
      "application/vnd.jupyter.widget-view+json": {
       "model_id": "451468ca84224a1b8632a6fe67ab38c7",
       "version_major": 2,
       "version_minor": 0
      },
      "text/plain": [
       "VBox()"
      ]
     },
     "metadata": {},
     "output_type": "display_data"
    },
    {
     "data": {
      "application/vnd.jupyter.widget-view+json": {
       "model_id": "",
       "version_major": 2,
       "version_minor": 0
      },
      "text/plain": [
       "FloatProgress(value=0.0, bar_style='info', description='Progress:', layout=Layout(height='25px', width='50%'),…"
      ]
     },
     "metadata": {},
     "output_type": "display_data"
    }
   ],
   "source": [
    "from pyspark.sql.functions import *\n",
    "tickets.createOrReplaceTempView(\"tickets_view\")"
   ]
  },
  {
   "cell_type": "markdown",
   "metadata": {},
   "source": [
    "# Check for duplicate entries"
   ]
  },
  {
   "cell_type": "code",
   "execution_count": 5,
   "metadata": {},
   "outputs": [
    {
     "data": {
      "application/vnd.jupyter.widget-view+json": {
       "model_id": "ae9ae0aacd3b4452baf4ea5a5f3bbe22",
       "version_major": 2,
       "version_minor": 0
      },
      "text/plain": [
       "VBox()"
      ]
     },
     "metadata": {},
     "output_type": "display_data"
    },
    {
     "data": {
      "application/vnd.jupyter.widget-view+json": {
       "model_id": "",
       "version_major": 2,
       "version_minor": 0
      },
      "text/plain": [
       "FloatProgress(value=0.0, bar_style='info', description='Progress:', layout=Layout(height='25px', width='50%'),…"
      ]
     },
     "metadata": {},
     "output_type": "display_data"
    },
    {
     "name": "stdout",
     "output_type": "stream",
     "text": [
      "+--------------+-----------------------------------------------+\n",
      "|Summons Number|Number of duplicate occurance of summons number|\n",
      "+--------------+-----------------------------------------------+\n",
      "+--------------+-----------------------------------------------+"
     ]
    }
   ],
   "source": [
    "spark.sql(\"\\\n",
    "            SELECT `Summons Number`, COUNT(`Summons Number`) AS `Number of duplicate occurance of summons number`\\\n",
    "            FROM tickets_view\\\n",
    "            GROUP BY `Summons Number`\\\n",
    "            HAVING COUNT(`Summons Number`) > 1\\\n",
    "        \").show()"
   ]
  },
  {
   "cell_type": "raw",
   "metadata": {},
   "source": [
    "Output\n",
    "\n",
    "+--------------+-----------------------------------------------+\n",
    "|Summons Number|Number of duplicate occurance of summons number|\n",
    "+--------------+-----------------------------------------------+\n",
    "+--------------+-----------------------------------------------+"
   ]
  },
  {
   "cell_type": "markdown",
   "metadata": {},
   "source": [
    "# Total number of tickets"
   ]
  },
  {
   "cell_type": "code",
   "execution_count": 6,
   "metadata": {},
   "outputs": [
    {
     "data": {
      "application/vnd.jupyter.widget-view+json": {
       "model_id": "69c0aa62f10949a88571af215b5fe6e8",
       "version_major": 2,
       "version_minor": 0
      },
      "text/plain": [
       "VBox()"
      ]
     },
     "metadata": {},
     "output_type": "display_data"
    },
    {
     "data": {
      "application/vnd.jupyter.widget-view+json": {
       "model_id": "",
       "version_major": 2,
       "version_minor": 0
      },
      "text/plain": [
       "FloatProgress(value=0.0, bar_style='info', description='Progress:', layout=Layout(height='25px', width='50%'),…"
      ]
     },
     "metadata": {},
     "output_type": "display_data"
    },
    {
     "name": "stdout",
     "output_type": "stream",
     "text": [
      "10803028"
     ]
    }
   ],
   "source": [
    "tickets.select(tickets[\"Summons Number\"]).count()"
   ]
  },
  {
   "cell_type": "raw",
   "metadata": {},
   "source": [
    "Output\n",
    "\n",
    "10803028"
   ]
  },
  {
   "cell_type": "markdown",
   "metadata": {},
   "source": [
    "# Number of unique states from where cars got parking ticket"
   ]
  },
  {
   "cell_type": "code",
   "execution_count": 7,
   "metadata": {},
   "outputs": [
    {
     "data": {
      "application/vnd.jupyter.widget-view+json": {
       "model_id": "1285341a296945408becd0ddf347d9eb",
       "version_major": 2,
       "version_minor": 0
      },
      "text/plain": [
       "VBox()"
      ]
     },
     "metadata": {},
     "output_type": "display_data"
    },
    {
     "data": {
      "application/vnd.jupyter.widget-view+json": {
       "model_id": "",
       "version_major": 2,
       "version_minor": 0
      },
      "text/plain": [
       "FloatProgress(value=0.0, bar_style='info', description='Progress:', layout=Layout(height='25px', width='50%'),…"
      ]
     },
     "metadata": {},
     "output_type": "display_data"
    },
    {
     "name": "stdout",
     "output_type": "stream",
     "text": [
      "+-----------------------+\n",
      "|Number of unique states|\n",
      "+-----------------------+\n",
      "|                     67|\n",
      "+-----------------------+"
     ]
    }
   ],
   "source": [
    "spark.sql(\"\\\n",
    "            SELECT COUNT(`Registration State`) as `Number of unique states`\\\n",
    "            FROM\\\n",
    "            (\\\n",
    "                SELECT `Registration State`\\\n",
    "                FROM tickets_view\\\n",
    "                GROUP BY `Registration State`\\\n",
    "            ) AS SUBQUERY\\\n",
    "            \").show()"
   ]
  },
  {
   "cell_type": "raw",
   "metadata": {},
   "source": [
    "Output\n",
    "\n",
    "+-----------------------+\n",
    "|Number of unique states|\n",
    "+-----------------------+\n",
    "|                     67|\n",
    "+-----------------------+"
   ]
  },
  {
   "cell_type": "markdown",
   "metadata": {},
   "source": [
    "# State having the maximum tickets"
   ]
  },
  {
   "cell_type": "code",
   "execution_count": 8,
   "metadata": {},
   "outputs": [
    {
     "data": {
      "application/vnd.jupyter.widget-view+json": {
       "model_id": "cfdf9dab21d64467ba2df4d23cd56a92",
       "version_major": 2,
       "version_minor": 0
      },
      "text/plain": [
       "VBox()"
      ]
     },
     "metadata": {},
     "output_type": "display_data"
    },
    {
     "data": {
      "application/vnd.jupyter.widget-view+json": {
       "model_id": "",
       "version_major": 2,
       "version_minor": 0
      },
      "text/plain": [
       "FloatProgress(value=0.0, bar_style='info', description='Progress:', layout=Layout(height='25px', width='50%'),…"
      ]
     },
     "metadata": {},
     "output_type": "display_data"
    },
    {
     "name": "stdout",
     "output_type": "stream",
     "text": [
      "+------------------+-----------------+\n",
      "|Registration State|Number of tickets|\n",
      "+------------------+-----------------+\n",
      "|                NY|          8481061|\n",
      "+------------------+-----------------+"
     ]
    }
   ],
   "source": [
    "spark.sql(\"\\\n",
    "            SELECT `Registration State`, COUNT(`Summons Number`) as `Number of tickets`\\\n",
    "            FROM tickets_view\\\n",
    "            GROUP BY `Registration State`\\\n",
    "            ORDER BY `Number of Tickets` DESC\\\n",
    "            LIMIT 1\\\n",
    "            \").show()"
   ]
  },
  {
   "cell_type": "raw",
   "metadata": {},
   "source": [
    "Output\n",
    "\n",
    "+------------------+-----------------+\n",
    "|Registration State|Number of tickets|\n",
    "+------------------+-----------------+\n",
    "|                NY|          8481061|\n",
    "+------------------+-----------------+"
   ]
  },
  {
   "cell_type": "markdown",
   "metadata": {},
   "source": [
    "# Replace the numeric entry '99' with the state having maximum tickets"
   ]
  },
  {
   "cell_type": "code",
   "execution_count": 9,
   "metadata": {},
   "outputs": [
    {
     "data": {
      "application/vnd.jupyter.widget-view+json": {
       "model_id": "2c15c796aafb4f58a0941378f6e10647",
       "version_major": 2,
       "version_minor": 0
      },
      "text/plain": [
       "VBox()"
      ]
     },
     "metadata": {},
     "output_type": "display_data"
    },
    {
     "data": {
      "application/vnd.jupyter.widget-view+json": {
       "model_id": "",
       "version_major": 2,
       "version_minor": 0
      },
      "text/plain": [
       "FloatProgress(value=0.0, bar_style='info', description='Progress:', layout=Layout(height='25px', width='50%'),…"
      ]
     },
     "metadata": {},
     "output_type": "display_data"
    }
   ],
   "source": [
    "tickets_updated = tickets.withColumn(\"Registration State\", when(tickets[\"Registration State\"] == '99', 'NY').otherwise(tickets[\"Registration State\"]))"
   ]
  },
  {
   "cell_type": "markdown",
   "metadata": {},
   "source": [
    "# Create SQL view of the updated dataframe"
   ]
  },
  {
   "cell_type": "code",
   "execution_count": 10,
   "metadata": {},
   "outputs": [
    {
     "data": {
      "application/vnd.jupyter.widget-view+json": {
       "model_id": "bfeb4db1d25846df8a536eabd947c68c",
       "version_major": 2,
       "version_minor": 0
      },
      "text/plain": [
       "VBox()"
      ]
     },
     "metadata": {},
     "output_type": "display_data"
    },
    {
     "data": {
      "application/vnd.jupyter.widget-view+json": {
       "model_id": "",
       "version_major": 2,
       "version_minor": 0
      },
      "text/plain": [
       "FloatProgress(value=0.0, bar_style='info', description='Progress:', layout=Layout(height='25px', width='50%'),…"
      ]
     },
     "metadata": {},
     "output_type": "display_data"
    }
   ],
   "source": [
    "tickets_updated.createOrReplaceTempView(\"tickets_view\")"
   ]
  },
  {
   "cell_type": "markdown",
   "metadata": {},
   "source": [
    "# Number of unique states from where cars got parking ticket\n"
   ]
  },
  {
   "cell_type": "code",
   "execution_count": 11,
   "metadata": {},
   "outputs": [
    {
     "data": {
      "application/vnd.jupyter.widget-view+json": {
       "model_id": "82c4cb5be1c3416aa0a9475d4ce93eb3",
       "version_major": 2,
       "version_minor": 0
      },
      "text/plain": [
       "VBox()"
      ]
     },
     "metadata": {},
     "output_type": "display_data"
    },
    {
     "data": {
      "application/vnd.jupyter.widget-view+json": {
       "model_id": "",
       "version_major": 2,
       "version_minor": 0
      },
      "text/plain": [
       "FloatProgress(value=0.0, bar_style='info', description='Progress:', layout=Layout(height='25px', width='50%'),…"
      ]
     },
     "metadata": {},
     "output_type": "display_data"
    },
    {
     "name": "stdout",
     "output_type": "stream",
     "text": [
      "+-----------------------+\n",
      "|Number of unique states|\n",
      "+-----------------------+\n",
      "|                     66|\n",
      "+-----------------------+"
     ]
    }
   ],
   "source": [
    "spark.sql(\"\\\n",
    "            SELECT COUNT(`Registration State`) as `Number of unique states`\\\n",
    "            FROM\\\n",
    "            (\\\n",
    "                SELECT `Registration State`\\\n",
    "                FROM tickets_view\\\n",
    "                GROUP BY `Registration State`\\\n",
    "            ) AS SUBQUERY\\\n",
    "            \").show()"
   ]
  },
  {
   "cell_type": "raw",
   "metadata": {},
   "source": [
    "Output\n",
    "\n",
    "+-----------------------+\n",
    "|Number of unique states|\n",
    "+-----------------------+\n",
    "|                     66|\n",
    "+-----------------------+"
   ]
  },
  {
   "cell_type": "markdown",
   "metadata": {},
   "source": [
    "# Top twenty states with the most number of tickets"
   ]
  },
  {
   "cell_type": "code",
   "execution_count": 12,
   "metadata": {},
   "outputs": [
    {
     "data": {
      "application/vnd.jupyter.widget-view+json": {
       "model_id": "ab4f369efbbe4a3f81db658a3a93c00c",
       "version_major": 2,
       "version_minor": 0
      },
      "text/plain": [
       "VBox()"
      ]
     },
     "metadata": {},
     "output_type": "display_data"
    },
    {
     "data": {
      "application/vnd.jupyter.widget-view+json": {
       "model_id": "",
       "version_major": 2,
       "version_minor": 0
      },
      "text/plain": [
       "FloatProgress(value=0.0, bar_style='info', description='Progress:', layout=Layout(height='25px', width='50%'),…"
      ]
     },
     "metadata": {},
     "output_type": "display_data"
    },
    {
     "name": "stdout",
     "output_type": "stream",
     "text": [
      "+------------------+-----------------+\n",
      "|Registration State|Number of tickets|\n",
      "+------------------+-----------------+\n",
      "|                NY|          8517686|\n",
      "|                NJ|           925965|\n",
      "|                PA|           285419|\n",
      "|                FL|           144556|\n",
      "|                CT|           141088|\n",
      "|                MA|            85547|\n",
      "|                IN|            80749|\n",
      "|                VA|            72626|\n",
      "|                MD|            61800|\n",
      "|                NC|            55806|\n",
      "|                IL|            37329|\n",
      "|                GA|            36852|\n",
      "|                TX|            36516|\n",
      "|                AZ|            26426|\n",
      "|                OH|            25302|\n",
      "|                CA|            24260|\n",
      "|                SC|            21836|\n",
      "|                ME|            21574|\n",
      "|                MN|            18227|\n",
      "|                OK|            18165|\n",
      "+------------------+-----------------+"
     ]
    }
   ],
   "source": [
    "spark.sql(\"\\\n",
    "            SELECT `Registration State`, COUNT(`Summons Number`) as `Number of tickets`\\\n",
    "            FROM tickets_view\\\n",
    "            GROUP BY `Registration State`\\\n",
    "            ORDER BY `Number of Tickets` DESC\\\n",
    "            LIMIT 20\\\n",
    "            \").show()"
   ]
  },
  {
   "cell_type": "raw",
   "metadata": {},
   "source": [
    "Output\n",
    "\n",
    "+------------------+-----------------+\n",
    "|Registration State|Number of tickets|\n",
    "+------------------+-----------------+\n",
    "|                NY|          8517686|\n",
    "|                NJ|           925965|\n",
    "|                PA|           285419|\n",
    "|                FL|           144556|\n",
    "|                CT|           141088|\n",
    "|                MA|            85547|\n",
    "|                IN|            80749|\n",
    "|                VA|            72626|\n",
    "|                MD|            61800|\n",
    "|                NC|            55806|\n",
    "|                IL|            37329|\n",
    "|                GA|            36852|\n",
    "|                TX|            36516|\n",
    "|                AZ|            26426|\n",
    "|                OH|            25302|\n",
    "|                CA|            24260|\n",
    "|                SC|            21836|\n",
    "|                ME|            21574|\n",
    "|                MN|            18227|\n",
    "|                OK|            18165|\n",
    "+------------------+-----------------+"
   ]
  },
  {
   "cell_type": "markdown",
   "metadata": {},
   "source": [
    "# Frequency of top five violation codes"
   ]
  },
  {
   "cell_type": "code",
   "execution_count": 13,
   "metadata": {},
   "outputs": [
    {
     "data": {
      "application/vnd.jupyter.widget-view+json": {
       "model_id": "8c11152433c04f448baf1e2b0b38defe",
       "version_major": 2,
       "version_minor": 0
      },
      "text/plain": [
       "VBox()"
      ]
     },
     "metadata": {},
     "output_type": "display_data"
    },
    {
     "data": {
      "application/vnd.jupyter.widget-view+json": {
       "model_id": "",
       "version_major": 2,
       "version_minor": 0
      },
      "text/plain": [
       "FloatProgress(value=0.0, bar_style='info', description='Progress:', layout=Layout(height='25px', width='50%'),…"
      ]
     },
     "metadata": {},
     "output_type": "display_data"
    },
    {
     "name": "stdout",
     "output_type": "stream",
     "text": [
      "+--------------+--------------------+\n",
      "|Violation Code|Number of violations|\n",
      "+--------------+--------------------+\n",
      "|            21|             1528588|\n",
      "|            36|             1400614|\n",
      "|            38|             1062304|\n",
      "|            14|              893498|\n",
      "|            20|              618593|\n",
      "+--------------+--------------------+"
     ]
    }
   ],
   "source": [
    "spark.sql(\"\\\n",
    "            SELECT `Violation Code`, COUNT(`Summons Number`) as `Number of violations`\\\n",
    "            FROM tickets_view\\\n",
    "            GROUP BY `Violation Code`\\\n",
    "            ORDER BY `Number of violations` DESC\\\n",
    "            LIMIT 5\\\n",
    "            \").show()"
   ]
  },
  {
   "cell_type": "raw",
   "metadata": {},
   "source": [
    "Output\n",
    "\n",
    "+--------------+--------------------+\n",
    "|Violation Code|Number of violations|\n",
    "+--------------+--------------------+\n",
    "|            21|             1528588|\n",
    "|            36|             1400614|\n",
    "|            38|             1062304|\n",
    "|            14|              893498|\n",
    "|            20|              618593|\n",
    "+--------------+--------------------+"
   ]
  },
  {
   "cell_type": "markdown",
   "metadata": {},
   "source": [
    "# Frequency of top five vehicle body type"
   ]
  },
  {
   "cell_type": "code",
   "execution_count": 14,
   "metadata": {},
   "outputs": [
    {
     "data": {
      "application/vnd.jupyter.widget-view+json": {
       "model_id": "9bc717fe4862415286c5a81e4475caad",
       "version_major": 2,
       "version_minor": 0
      },
      "text/plain": [
       "VBox()"
      ]
     },
     "metadata": {},
     "output_type": "display_data"
    },
    {
     "data": {
      "application/vnd.jupyter.widget-view+json": {
       "model_id": "",
       "version_major": 2,
       "version_minor": 0
      },
      "text/plain": [
       "FloatProgress(value=0.0, bar_style='info', description='Progress:', layout=Layout(height='25px', width='50%'),…"
      ]
     },
     "metadata": {},
     "output_type": "display_data"
    },
    {
     "name": "stdout",
     "output_type": "stream",
     "text": [
      "+-----------------+-----------------+\n",
      "|Vehicle Body Type|Number of tickets|\n",
      "+-----------------+-----------------+\n",
      "|             SUBN|          3719802|\n",
      "|             4DSD|          3082020|\n",
      "|              VAN|          1411970|\n",
      "|             DELV|           687330|\n",
      "|              SDN|           438191|\n",
      "+-----------------+-----------------+"
     ]
    }
   ],
   "source": [
    "spark.sql(\"\\\n",
    "            SELECT `Vehicle Body Type`, COUNT(`Summons Number`) as `Number of tickets`\\\n",
    "            FROM tickets_view\\\n",
    "            GROUP BY `Vehicle Body Type`\\\n",
    "            ORDER BY `Number of tickets` DESC\\\n",
    "            LIMIT 5\\\n",
    "            \").show()"
   ]
  },
  {
   "cell_type": "raw",
   "metadata": {},
   "source": [
    "Output\n",
    "\n",
    "+-----------------+-----------------+\n",
    "|Vehicle Body Type|Number of tickets|\n",
    "+-----------------+-----------------+\n",
    "|             SUBN|          3719802|\n",
    "|             4DSD|          3082020|\n",
    "|              VAN|          1411970|\n",
    "|             DELV|           687330|\n",
    "|              SDN|           438191|\n",
    "+-----------------+-----------------+"
   ]
  },
  {
   "cell_type": "markdown",
   "metadata": {},
   "source": [
    "# Frequency of top five vehicle make"
   ]
  },
  {
   "cell_type": "code",
   "execution_count": 15,
   "metadata": {},
   "outputs": [
    {
     "data": {
      "application/vnd.jupyter.widget-view+json": {
       "model_id": "ade0c3ead0754356bc0c9152765641b7",
       "version_major": 2,
       "version_minor": 0
      },
      "text/plain": [
       "VBox()"
      ]
     },
     "metadata": {},
     "output_type": "display_data"
    },
    {
     "data": {
      "application/vnd.jupyter.widget-view+json": {
       "model_id": "",
       "version_major": 2,
       "version_minor": 0
      },
      "text/plain": [
       "FloatProgress(value=0.0, bar_style='info', description='Progress:', layout=Layout(height='25px', width='50%'),…"
      ]
     },
     "metadata": {},
     "output_type": "display_data"
    },
    {
     "name": "stdout",
     "output_type": "stream",
     "text": [
      "+------------+-----------------+\n",
      "|Vehicle Make|Number of tickets|\n",
      "+------------+-----------------+\n",
      "|        FORD|          1280958|\n",
      "|       TOYOT|          1211451|\n",
      "|       HONDA|          1079238|\n",
      "|       NISSA|           918590|\n",
      "|       CHEVR|           714655|\n",
      "+------------+-----------------+"
     ]
    }
   ],
   "source": [
    "spark.sql(\"\\\n",
    "            SELECT `Vehicle Make`, COUNT(`Summons Number`) as `Number of tickets`\\\n",
    "            FROM tickets_view\\\n",
    "            GROUP BY `Vehicle Make`\\\n",
    "            ORDER BY `Number of tickets` DESC\\\n",
    "            LIMIT 5\\\n",
    "            \").show()"
   ]
  },
  {
   "cell_type": "raw",
   "metadata": {},
   "source": [
    "Output\n",
    "\n",
    "+------------+-----------------+\n",
    "|Vehicle Make|Number of tickets|\n",
    "+------------+-----------------+\n",
    "|        FORD|          1280958|\n",
    "|       TOYOT|          1211451|\n",
    "|       HONDA|          1079238|\n",
    "|       NISSA|           918590|\n",
    "|       CHEVR|           714655|\n",
    "+------------+-----------------+"
   ]
  },
  {
   "cell_type": "markdown",
   "metadata": {},
   "source": [
    "# Divide the data into seasons"
   ]
  },
  {
   "cell_type": "markdown",
   "metadata": {},
   "source": [
    "# Assumptions\n",
    "\n",
    "|Season|Months|Months in numbers|\n",
    "|------|------|------|\n",
    "|Summer|March, April, May|3,4,5|\n",
    "|Monsoon|June, July, August|6,7,8|\n",
    "|Autumn|September, October, November|9,10,11|\n",
    "|Winter|December, January, February|12,1,2|"
   ]
  },
  {
   "cell_type": "markdown",
   "metadata": {},
   "source": [
    "# Cast string type as date type"
   ]
  },
  {
   "cell_type": "code",
   "execution_count": 16,
   "metadata": {},
   "outputs": [
    {
     "data": {
      "application/vnd.jupyter.widget-view+json": {
       "model_id": "cb1b5f66aaa14573beda4027adb90b6b",
       "version_major": 2,
       "version_minor": 0
      },
      "text/plain": [
       "VBox()"
      ]
     },
     "metadata": {},
     "output_type": "display_data"
    },
    {
     "data": {
      "application/vnd.jupyter.widget-view+json": {
       "model_id": "",
       "version_major": 2,
       "version_minor": 0
      },
      "text/plain": [
       "FloatProgress(value=0.0, bar_style='info', description='Progress:', layout=Layout(height='25px', width='50%'),…"
      ]
     },
     "metadata": {},
     "output_type": "display_data"
    }
   ],
   "source": [
    "tickets_date_updated = tickets_updated.withColumn(\"Issue Date\", to_date(col(\"Issue Date\"), \"MM/dd/yyyy\"))"
   ]
  },
  {
   "cell_type": "markdown",
   "metadata": {},
   "source": [
    "# Create SQL view of the updated dataframe"
   ]
  },
  {
   "cell_type": "code",
   "execution_count": 17,
   "metadata": {},
   "outputs": [
    {
     "data": {
      "application/vnd.jupyter.widget-view+json": {
       "model_id": "daf22382f16e4fca919445ea5c95ff43",
       "version_major": 2,
       "version_minor": 0
      },
      "text/plain": [
       "VBox()"
      ]
     },
     "metadata": {},
     "output_type": "display_data"
    },
    {
     "data": {
      "application/vnd.jupyter.widget-view+json": {
       "model_id": "",
       "version_major": 2,
       "version_minor": 0
      },
      "text/plain": [
       "FloatProgress(value=0.0, bar_style='info', description='Progress:', layout=Layout(height='25px', width='50%'),…"
      ]
     },
     "metadata": {},
     "output_type": "display_data"
    }
   ],
   "source": [
    "tickets_date_updated.createOrReplaceTempView(\"tickets_view\")"
   ]
  },
  {
   "cell_type": "markdown",
   "metadata": {},
   "source": [
    "# Create dataframe segregating the data as per seasons defined in above assumption and keep only the required colums for further analysis"
   ]
  },
  {
   "cell_type": "code",
   "execution_count": 18,
   "metadata": {},
   "outputs": [
    {
     "data": {
      "application/vnd.jupyter.widget-view+json": {
       "model_id": "c628f22b62584deeb0fa5daafe35fef6",
       "version_major": 2,
       "version_minor": 0
      },
      "text/plain": [
       "VBox()"
      ]
     },
     "metadata": {},
     "output_type": "display_data"
    },
    {
     "data": {
      "application/vnd.jupyter.widget-view+json": {
       "model_id": "",
       "version_major": 2,
       "version_minor": 0
      },
      "text/plain": [
       "FloatProgress(value=0.0, bar_style='info', description='Progress:', layout=Layout(height='25px', width='50%'),…"
      ]
     },
     "metadata": {},
     "output_type": "display_data"
    }
   ],
   "source": [
    "tickets_seasonal = spark.sql(\"\\\n",
    "                                SELECT `Summons Number`, `Issue Date`, `Violation Code`,\\\n",
    "                                CASE\\\n",
    "                                    WHEN MONTH(`Issue Date`) IN (3,4,5) THEN 'Summer'\\\n",
    "                                    WHEN MONTH(`Issue Date`) IN (6,7,8) THEN 'Monsoon'\\\n",
    "                                    WHEN MONTH(`Issue Date`) IN (9,10,11) THEN 'Autumn'\\\n",
    "                                    WHEN MONTH(`Issue Date`) IN (12,1,2) THEN 'Winter'\\\n",
    "                                    ELSE 'Invalid'\\\n",
    "                                END AS `Season`\\\n",
    "                                FROM tickets_view\\\n",
    "                            \")"
   ]
  },
  {
   "cell_type": "markdown",
   "metadata": {},
   "source": [
    "# Create SQL view of the dataframe"
   ]
  },
  {
   "cell_type": "code",
   "execution_count": 19,
   "metadata": {},
   "outputs": [
    {
     "data": {
      "application/vnd.jupyter.widget-view+json": {
       "model_id": "99da854456ff41da8d6e0cc67bab6c17",
       "version_major": 2,
       "version_minor": 0
      },
      "text/plain": [
       "VBox()"
      ]
     },
     "metadata": {},
     "output_type": "display_data"
    },
    {
     "data": {
      "application/vnd.jupyter.widget-view+json": {
       "model_id": "",
       "version_major": 2,
       "version_minor": 0
      },
      "text/plain": [
       "FloatProgress(value=0.0, bar_style='info', description='Progress:', layout=Layout(height='25px', width='50%'),…"
      ]
     },
     "metadata": {},
     "output_type": "display_data"
    }
   ],
   "source": [
    "tickets_seasonal.createOrReplaceTempView(\"tickets_seasonal_view\")"
   ]
  },
  {
   "cell_type": "markdown",
   "metadata": {},
   "source": [
    "# Seasonal frequency of tickets"
   ]
  },
  {
   "cell_type": "code",
   "execution_count": 20,
   "metadata": {},
   "outputs": [
    {
     "data": {
      "application/vnd.jupyter.widget-view+json": {
       "model_id": "761db92ce227477da0d4a5cbebe9b650",
       "version_major": 2,
       "version_minor": 0
      },
      "text/plain": [
       "VBox()"
      ]
     },
     "metadata": {},
     "output_type": "display_data"
    },
    {
     "data": {
      "application/vnd.jupyter.widget-view+json": {
       "model_id": "",
       "version_major": 2,
       "version_minor": 0
      },
      "text/plain": [
       "FloatProgress(value=0.0, bar_style='info', description='Progress:', layout=Layout(height='25px', width='50%'),…"
      ]
     },
     "metadata": {},
     "output_type": "display_data"
    },
    {
     "name": "stdout",
     "output_type": "stream",
     "text": [
      "+-------+-----------------+\n",
      "| Season|Number of tickets|\n",
      "+-------+-----------------+\n",
      "| Summer|          2880687|\n",
      "| Autumn|          2830802|\n",
      "|Monsoon|          2606208|\n",
      "| Winter|          2485331|\n",
      "+-------+-----------------+"
     ]
    }
   ],
   "source": [
    "spark.sql(\"\\\n",
    "            SELECT `Season`, COUNT(`Summons Number`) as `Number of tickets`\\\n",
    "            FROM tickets_seasonal_view\\\n",
    "            GROUP BY `Season`\\\n",
    "            ORDER BY `Number of tickets` DESC\\\n",
    "            \").show()"
   ]
  },
  {
   "cell_type": "raw",
   "metadata": {},
   "source": [
    "Output\n",
    "\n",
    "+-------+-----------------+\n",
    "| Season|Number of tickets|\n",
    "+-------+-----------------+\n",
    "| Summer|          2880687|\n",
    "| Autumn|          2830802|\n",
    "|Monsoon|          2606208|\n",
    "| Winter|          2485331|\n",
    "+-------+-----------------+"
   ]
  },
  {
   "cell_type": "markdown",
   "metadata": {},
   "source": [
    "# Three most common violations for each season"
   ]
  },
  {
   "cell_type": "markdown",
   "metadata": {},
   "source": [
    "### Summer"
   ]
  },
  {
   "cell_type": "code",
   "execution_count": 21,
   "metadata": {},
   "outputs": [
    {
     "data": {
      "application/vnd.jupyter.widget-view+json": {
       "model_id": "546c79818c9d450f93a3cf0f4f895f3c",
       "version_major": 2,
       "version_minor": 0
      },
      "text/plain": [
       "VBox()"
      ]
     },
     "metadata": {},
     "output_type": "display_data"
    },
    {
     "data": {
      "application/vnd.jupyter.widget-view+json": {
       "model_id": "",
       "version_major": 2,
       "version_minor": 0
      },
      "text/plain": [
       "FloatProgress(value=0.0, bar_style='info', description='Progress:', layout=Layout(height='25px', width='50%'),…"
      ]
     },
     "metadata": {},
     "output_type": "display_data"
    },
    {
     "name": "stdout",
     "output_type": "stream",
     "text": [
      "+--------------+---------+\n",
      "|Violation Code|Frequency|\n",
      "+--------------+---------+\n",
      "|            21|   402807|\n",
      "|            36|   344834|\n",
      "|            38|   271192|\n",
      "+--------------+---------+"
     ]
    }
   ],
   "source": [
    "spark.sql(\"\\\n",
    "            SELECT `Violation Code`, COUNT(`Summons Number`) AS `Frequency`\\\n",
    "            FROM `tickets_seasonal_view`\\\n",
    "            WHERE `Season` = 'Summer'\\\n",
    "            GROUP BY `Violation Code`\\\n",
    "            ORDER BY `Frequency` DESC\\\n",
    "            LIMIT 3\\\n",
    "          \").show()"
   ]
  },
  {
   "cell_type": "raw",
   "metadata": {},
   "source": [
    "Output\n",
    "\n",
    "+--------------+---------+\n",
    "|Violation Code|Frequency|\n",
    "+--------------+---------+\n",
    "|            21|   402807|\n",
    "|            36|   344834|\n",
    "|            38|   271192|\n",
    "+--------------+---------+"
   ]
  },
  {
   "cell_type": "markdown",
   "metadata": {},
   "source": [
    "### Monsoon"
   ]
  },
  {
   "cell_type": "code",
   "execution_count": 22,
   "metadata": {},
   "outputs": [
    {
     "data": {
      "application/vnd.jupyter.widget-view+json": {
       "model_id": "b442837891fb4fa4bd071e04ec2e5ed3",
       "version_major": 2,
       "version_minor": 0
      },
      "text/plain": [
       "VBox()"
      ]
     },
     "metadata": {},
     "output_type": "display_data"
    },
    {
     "data": {
      "application/vnd.jupyter.widget-view+json": {
       "model_id": "",
       "version_major": 2,
       "version_minor": 0
      },
      "text/plain": [
       "FloatProgress(value=0.0, bar_style='info', description='Progress:', layout=Layout(height='25px', width='50%'),…"
      ]
     },
     "metadata": {},
     "output_type": "display_data"
    },
    {
     "name": "stdout",
     "output_type": "stream",
     "text": [
      "+--------------+---------+\n",
      "|Violation Code|Frequency|\n",
      "+--------------+---------+\n",
      "|            21|   405961|\n",
      "|            38|   247561|\n",
      "|            36|   240396|\n",
      "+--------------+---------+"
     ]
    }
   ],
   "source": [
    "spark.sql(\"\\\n",
    "            SELECT `Violation Code`, COUNT(`Summons Number`) AS `Frequency`\\\n",
    "            FROM `tickets_seasonal_view`\\\n",
    "            WHERE `Season` = 'Monsoon'\\\n",
    "            GROUP BY `Violation Code`\\\n",
    "            ORDER BY `Frequency` DESC\\\n",
    "            LIMIT 3\\\n",
    "          \").show()"
   ]
  },
  {
   "cell_type": "raw",
   "metadata": {},
   "source": [
    "Output\n",
    "\n",
    "+--------------+---------+\n",
    "|Violation Code|Frequency|\n",
    "+--------------+---------+\n",
    "|            21|   405961|\n",
    "|            38|   247561|\n",
    "|            36|   240396|\n",
    "+--------------+---------+"
   ]
  },
  {
   "cell_type": "markdown",
   "metadata": {},
   "source": [
    "### Autumn"
   ]
  },
  {
   "cell_type": "code",
   "execution_count": 23,
   "metadata": {},
   "outputs": [
    {
     "data": {
      "application/vnd.jupyter.widget-view+json": {
       "model_id": "3ca8ca6a3e9a415fb7bb07ee474c4aa0",
       "version_major": 2,
       "version_minor": 0
      },
      "text/plain": [
       "VBox()"
      ]
     },
     "metadata": {},
     "output_type": "display_data"
    },
    {
     "data": {
      "application/vnd.jupyter.widget-view+json": {
       "model_id": "",
       "version_major": 2,
       "version_minor": 0
      },
      "text/plain": [
       "FloatProgress(value=0.0, bar_style='info', description='Progress:', layout=Layout(height='25px', width='50%'),…"
      ]
     },
     "metadata": {},
     "output_type": "display_data"
    },
    {
     "name": "stdout",
     "output_type": "stream",
     "text": [
      "+--------------+---------+\n",
      "|Violation Code|Frequency|\n",
      "+--------------+---------+\n",
      "|            36|   456046|\n",
      "|            21|   357479|\n",
      "|            38|   283828|\n",
      "+--------------+---------+"
     ]
    }
   ],
   "source": [
    "spark.sql(\"\\\n",
    "            SELECT `Violation Code`, COUNT(`Summons Number`) AS `Frequency`\\\n",
    "            FROM `tickets_seasonal_view`\\\n",
    "            WHERE `Season` = 'Autumn'\\\n",
    "            GROUP BY `Violation Code`\\\n",
    "            ORDER BY `Frequency` DESC\\\n",
    "            LIMIT 3\\\n",
    "          \").show()"
   ]
  },
  {
   "cell_type": "raw",
   "metadata": {},
   "source": [
    "Output\n",
    "\n",
    "+--------------+---------+\n",
    "|Violation Code|Frequency|\n",
    "+--------------+---------+\n",
    "|            36|   456046|\n",
    "|            21|   357479|\n",
    "|            38|   283828|\n",
    "+--------------+---------+"
   ]
  },
  {
   "cell_type": "markdown",
   "metadata": {},
   "source": [
    "### Winter"
   ]
  },
  {
   "cell_type": "code",
   "execution_count": 24,
   "metadata": {},
   "outputs": [
    {
     "data": {
      "application/vnd.jupyter.widget-view+json": {
       "model_id": "621f9e2a215e4862859d6e134b085c0a",
       "version_major": 2,
       "version_minor": 0
      },
      "text/plain": [
       "VBox()"
      ]
     },
     "metadata": {},
     "output_type": "display_data"
    },
    {
     "data": {
      "application/vnd.jupyter.widget-view+json": {
       "model_id": "",
       "version_major": 2,
       "version_minor": 0
      },
      "text/plain": [
       "FloatProgress(value=0.0, bar_style='info', description='Progress:', layout=Layout(height='25px', width='50%'),…"
      ]
     },
     "metadata": {},
     "output_type": "display_data"
    },
    {
     "name": "stdout",
     "output_type": "stream",
     "text": [
      "+--------------+---------+\n",
      "|Violation Code|Frequency|\n",
      "+--------------+---------+\n",
      "|            21|   362341|\n",
      "|            36|   359338|\n",
      "|            38|   259723|\n",
      "+--------------+---------+"
     ]
    }
   ],
   "source": [
    "spark.sql(\"\\\n",
    "            SELECT `Violation Code`, COUNT(`Summons Number`) AS `Frequency`\\\n",
    "            FROM `tickets_seasonal_view`\\\n",
    "            WHERE `Season` = 'Winter'\\\n",
    "            GROUP BY `Violation Code`\\\n",
    "            ORDER BY `Frequency` DESC\\\n",
    "            LIMIT 3\\\n",
    "          \").show()"
   ]
  },
  {
   "cell_type": "raw",
   "metadata": {},
   "source": [
    "Output\n",
    "\n",
    "+--------------+---------+\n",
    "|Violation Code|Frequency|\n",
    "+--------------+---------+\n",
    "|            21|   362341|\n",
    "|            36|   359338|\n",
    "|            38|   259723|\n",
    "+--------------+---------+"
   ]
  },
  {
   "cell_type": "markdown",
   "metadata": {},
   "source": [
    "# Total occurance of three most common violation codes"
   ]
  },
  {
   "cell_type": "code",
   "execution_count": 25,
   "metadata": {},
   "outputs": [
    {
     "data": {
      "application/vnd.jupyter.widget-view+json": {
       "model_id": "9a08cb98863a4f23a5f567a80cae6fdb",
       "version_major": 2,
       "version_minor": 0
      },
      "text/plain": [
       "VBox()"
      ]
     },
     "metadata": {},
     "output_type": "display_data"
    },
    {
     "data": {
      "application/vnd.jupyter.widget-view+json": {
       "model_id": "",
       "version_major": 2,
       "version_minor": 0
      },
      "text/plain": [
       "FloatProgress(value=0.0, bar_style='info', description='Progress:', layout=Layout(height='25px', width='50%'),…"
      ]
     },
     "metadata": {},
     "output_type": "display_data"
    },
    {
     "name": "stdout",
     "output_type": "stream",
     "text": [
      "+-------------------------------------------------------------+\n",
      "|Total number of tickets for three most common violation codes|\n",
      "+-------------------------------------------------------------+\n",
      "|                                                      3991506|\n",
      "+-------------------------------------------------------------+"
     ]
    }
   ],
   "source": [
    "spark.sql(\"\\\n",
    "            SELECT SUM(`Number of tickets`) AS `Total number of tickets for three most common violation codes`\\\n",
    "            FROM\\\n",
    "            (\\\n",
    "                SELECT `Violation Code`, COUNT(`Summons Number`) AS `Number of Tickets`\\\n",
    "                FROM tickets_view\\\n",
    "                GROUP BY `Violation Code`\\\n",
    "                ORDER BY `Number of tickets` DESC\\\n",
    "                LIMIT 3\\\n",
    "            ) AS SUBQUERY\\\n",
    "            \").show()"
   ]
  },
  {
   "cell_type": "raw",
   "metadata": {},
   "source": [
    "Output\n",
    "\n",
    "+-------------------------------------------------------------+\n",
    "|Total number of tickets for three most common violation codes|\n",
    "+-------------------------------------------------------------+\n",
    "|                                                      3991506|\n",
    "+-------------------------------------------------------------+"
   ]
  },
  {
   "cell_type": "markdown",
   "metadata": {},
   "source": [
    "# Assumptions\n",
    "\n",
    "|Rank|Violation Code|Manhattan 96th St. & below|All other areas|Average Fine|\n",
    "|------|------|------|------|------|\n",
    "|1|21|65|65|65|\n",
    "|2|36|50|50|50|\n",
    "|3|38|65|35|50|\n",
    "\n",
    "\n",
    "### All the calculations related to revenue are based upon revenue generated by collecting fines for above three violation codes only"
   ]
  },
  {
   "cell_type": "markdown",
   "metadata": {},
   "source": [
    "# Create dataframe containing column of fines along with columns required for revenue analysis"
   ]
  },
  {
   "cell_type": "code",
   "execution_count": 26,
   "metadata": {},
   "outputs": [
    {
     "data": {
      "application/vnd.jupyter.widget-view+json": {
       "model_id": "a0ba6540c58f4e1a89c1cd713992759f",
       "version_major": 2,
       "version_minor": 0
      },
      "text/plain": [
       "VBox()"
      ]
     },
     "metadata": {},
     "output_type": "display_data"
    },
    {
     "data": {
      "application/vnd.jupyter.widget-view+json": {
       "model_id": "",
       "version_major": 2,
       "version_minor": 0
      },
      "text/plain": [
       "FloatProgress(value=0.0, bar_style='info', description='Progress:', layout=Layout(height='25px', width='50%'),…"
      ]
     },
     "metadata": {},
     "output_type": "display_data"
    }
   ],
   "source": [
    "tickets_revenue = spark.sql(\"\\\n",
    "                                SELECT *\\\n",
    "                                FROM\\\n",
    "                                (\\\n",
    "                                    SELECT `Summons Number`, `Violation Code`, `Registration State`,\\\n",
    "                                    CASE\\\n",
    "                                        WHEN `Violation Code` = '21' THEN '65'\\\n",
    "                                        WHEN `Violation Code` = '36' THEN '50'\\\n",
    "                                        WHEN `Violation Code` = '38' THEN '50'\\\n",
    "                                        ELSE '0'\\\n",
    "                                    END AS `Average fine`\\\n",
    "                                    FROM tickets_view\\\n",
    "                                ) AS SUBQUERY\\\n",
    "                                WHERE `Average fine` <> '0'\\\n",
    "                            \")"
   ]
  },
  {
   "cell_type": "markdown",
   "metadata": {},
   "source": [
    "# Create SQL view of the dataframe"
   ]
  },
  {
   "cell_type": "code",
   "execution_count": 27,
   "metadata": {},
   "outputs": [
    {
     "data": {
      "application/vnd.jupyter.widget-view+json": {
       "model_id": "c7c69a0dbf97436081307bd5faed6a32",
       "version_major": 2,
       "version_minor": 0
      },
      "text/plain": [
       "VBox()"
      ]
     },
     "metadata": {},
     "output_type": "display_data"
    },
    {
     "data": {
      "application/vnd.jupyter.widget-view+json": {
       "model_id": "",
       "version_major": 2,
       "version_minor": 0
      },
      "text/plain": [
       "FloatProgress(value=0.0, bar_style='info', description='Progress:', layout=Layout(height='25px', width='50%'),…"
      ]
     },
     "metadata": {},
     "output_type": "display_data"
    }
   ],
   "source": [
    "tickets_revenue.createOrReplaceTempView(\"tickets_revenue_view\")"
   ]
  },
  {
   "cell_type": "markdown",
   "metadata": {},
   "source": [
    "# Total amount of revenue collected for each violation"
   ]
  },
  {
   "cell_type": "code",
   "execution_count": 28,
   "metadata": {},
   "outputs": [
    {
     "data": {
      "application/vnd.jupyter.widget-view+json": {
       "model_id": "a0c0b854d5cf4b0b8ba557195d111e0b",
       "version_major": 2,
       "version_minor": 0
      },
      "text/plain": [
       "VBox()"
      ]
     },
     "metadata": {},
     "output_type": "display_data"
    },
    {
     "data": {
      "application/vnd.jupyter.widget-view+json": {
       "model_id": "",
       "version_major": 2,
       "version_minor": 0
      },
      "text/plain": [
       "FloatProgress(value=0.0, bar_style='info', description='Progress:', layout=Layout(height='25px', width='50%'),…"
      ]
     },
     "metadata": {},
     "output_type": "display_data"
    },
    {
     "name": "stdout",
     "output_type": "stream",
     "text": [
      "+--------------+-----------------+\n",
      "|Violation Code|Revenue collected|\n",
      "+--------------+-----------------+\n",
      "|            21|       9.935822E7|\n",
      "|            36|        7.00307E7|\n",
      "|            38|        5.31152E7|\n",
      "+--------------+-----------------+"
     ]
    }
   ],
   "source": [
    "revenue = spark.sql(\"\\\n",
    "                        SELECT `Violation Code`, SUM(`Average fine`) AS `Revenue collected`\\\n",
    "                        FROM tickets_revenue_view\\\n",
    "                        GROUP BY `Violation Code`\\\n",
    "                        ORDER BY `Revenue collected` DESC\\\n",
    "                    \")\n",
    "revenue.show()"
   ]
  },
  {
   "cell_type": "raw",
   "metadata": {},
   "source": [
    "Output\n",
    "\n",
    "+--------------+-----------------+\n",
    "|Violation Code|Revenue collected|\n",
    "+--------------+-----------------+\n",
    "|            21|       9.935822E7|\n",
    "|            36|        7.00307E7|\n",
    "|            38|        5.31152E7|\n",
    "+--------------+-----------------+"
   ]
  },
  {
   "cell_type": "markdown",
   "metadata": {},
   "source": [
    "# Violation code with highest total collection"
   ]
  },
  {
   "cell_type": "code",
   "execution_count": 29,
   "metadata": {},
   "outputs": [
    {
     "data": {
      "application/vnd.jupyter.widget-view+json": {
       "model_id": "c2d9b55e322940479f464139a485fd09",
       "version_major": 2,
       "version_minor": 0
      },
      "text/plain": [
       "VBox()"
      ]
     },
     "metadata": {},
     "output_type": "display_data"
    },
    {
     "data": {
      "application/vnd.jupyter.widget-view+json": {
       "model_id": "",
       "version_major": 2,
       "version_minor": 0
      },
      "text/plain": [
       "FloatProgress(value=0.0, bar_style='info', description='Progress:', layout=Layout(height='25px', width='50%'),…"
      ]
     },
     "metadata": {},
     "output_type": "display_data"
    },
    {
     "name": "stdout",
     "output_type": "stream",
     "text": [
      "+--------------+\n",
      "|Violation Code|\n",
      "+--------------+\n",
      "|            21|\n",
      "+--------------+\n",
      "only showing top 1 row"
     ]
    }
   ],
   "source": [
    "revenue.select(\"Violation Code\").show(1)"
   ]
  },
  {
   "cell_type": "raw",
   "metadata": {},
   "source": [
    "Output\n",
    "\n",
    "+--------------+\n",
    "|Violation Code|\n",
    "+--------------+\n",
    "|            21|\n",
    "+--------------+\n",
    "only showing top 1 row"
   ]
  },
  {
   "cell_type": "markdown",
   "metadata": {},
   "source": [
    "# Top three states that have highest ticket revenue"
   ]
  },
  {
   "cell_type": "code",
   "execution_count": 30,
   "metadata": {},
   "outputs": [
    {
     "data": {
      "application/vnd.jupyter.widget-view+json": {
       "model_id": "149534471ee448048653f738c4450f61",
       "version_major": 2,
       "version_minor": 0
      },
      "text/plain": [
       "VBox()"
      ]
     },
     "metadata": {},
     "output_type": "display_data"
    },
    {
     "data": {
      "application/vnd.jupyter.widget-view+json": {
       "model_id": "",
       "version_major": 2,
       "version_minor": 0
      },
      "text/plain": [
       "FloatProgress(value=0.0, bar_style='info', description='Progress:', layout=Layout(height='25px', width='50%'),…"
      ]
     },
     "metadata": {},
     "output_type": "display_data"
    },
    {
     "name": "stdout",
     "output_type": "stream",
     "text": [
      "+------------------+-----------------+\n",
      "|Registration State|Revenue collected|\n",
      "+------------------+-----------------+\n",
      "|                NY|      1.7707888E8|\n",
      "|                NJ|       1.475377E7|\n",
      "|                PA|        6944560.0|\n",
      "+------------------+-----------------+"
     ]
    }
   ],
   "source": [
    "spark.sql(\"\\\n",
    "            SELECT `Registration State`, SUM(`Average fine`) AS `Revenue collected`\\\n",
    "            FROM tickets_revenue_view\\\n",
    "            GROUP BY `Registration State`\\\n",
    "            ORDER BY `Revenue collected` DESC\\\n",
    "            LIMIT 3\\\n",
    "            \").show()"
   ]
  },
  {
   "cell_type": "raw",
   "metadata": {},
   "source": [
    "Output\n",
    "\n",
    "+------------------+-----------------+\n",
    "|Registration State|Revenue collected|\n",
    "+------------------+-----------------+\n",
    "|                NY|      1.7707888E8|\n",
    "|                NJ|       1.475377E7|\n",
    "|                PA|        6944560.0|\n",
    "+------------------+-----------------+"
   ]
  },
  {
   "cell_type": "markdown",
   "metadata": {},
   "source": [
    "# Inference from the analysis\n",
    "\n",
    "1. State with highest number of tickets is **New York**\n",
    "\n",
    "2. The most common violation code is **21**, *Street Cleaning: No parking where parking is not allowed by sign, street marking or traffic control device.*\n",
    "\n",
    "3. Most common violations are by vehicle body type **SUBN** *Sub-urban*\n",
    "\n",
    "4. Most common violations are by vehicle make **Ford**\n",
    "\n",
    "5. Most violations occur in **Summer**\n",
    "\n",
    "6. Least violations occur in **Winter**\n",
    "\n",
    "7. In autum, the most common violation code is **36**, *Exceeding the posted speed limit in or near a designated school zone.*"
   ]
  }
 ],
 "metadata": {
  "kernelspec": {
   "display_name": "PySpark",
   "language": "",
   "name": "pysparkkernel"
  },
  "language_info": {
   "codemirror_mode": {
    "name": "python",
    "version": 2
   },
   "mimetype": "text/x-python",
   "name": "pyspark",
   "pygments_lexer": "python2"
  }
 },
 "nbformat": 4,
 "nbformat_minor": 5
}
