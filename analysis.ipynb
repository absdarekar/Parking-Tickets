{
 "cells": [
  {
   "cell_type": "markdown",
   "id": "1e724ba9",
   "metadata": {},
   "source": [
    "# Start spark application (spark session)"
   ]
  },
  {
   "cell_type": "code",
   "execution_count": 1,
   "id": "aeb74daf",
   "metadata": {},
   "outputs": [
    {
     "data": {
      "application/vnd.jupyter.widget-view+json": {
       "model_id": "d9a5d6704df54a97aad13606f8e789c9",
       "version_major": 2,
       "version_minor": 0
      },
      "text/plain": [
       "VBox()"
      ]
     },
     "metadata": {},
     "output_type": "display_data"
    },
    {
     "name": "stdout",
     "output_type": "stream",
     "text": [
      "Starting Spark application\n"
     ]
    },
    {
     "data": {
      "text/html": [
       "<table>\n",
       "<tr><th>ID</th><th>YARN Application ID</th><th>Kind</th><th>State</th><th>Spark UI</th><th>Driver log</th><th>Current session?</th></tr><tr><td>0</td><td>application_1649303695185_0001</td><td>pyspark</td><td>idle</td><td><a target=\"_blank\" href=\"http://ip-10-0-0-133.ec2.internal:20888/proxy/application_1649303695185_0001/\">Link</a></td><td><a target=\"_blank\" href=\"http://ip-10-0-0-133.ec2.internal:8042/node/containerlogs/container_1649303695185_0001_01_000001/livy\">Link</a></td><td>✔</td></tr></table>"
      ],
      "text/plain": [
       "<IPython.core.display.HTML object>"
      ]
     },
     "metadata": {},
     "output_type": "display_data"
    },
    {
     "data": {
      "application/vnd.jupyter.widget-view+json": {
       "model_id": "",
       "version_major": 2,
       "version_minor": 0
      },
      "text/plain": [
       "FloatProgress(value=0.0, bar_style='info', description='Progress:', layout=Layout(height='25px', width='50%'),…"
      ]
     },
     "metadata": {},
     "output_type": "display_data"
    },
    {
     "name": "stdout",
     "output_type": "stream",
     "text": [
      "SparkSession available as 'spark'.\n"
     ]
    },
    {
     "data": {
      "application/vnd.jupyter.widget-view+json": {
       "model_id": "",
       "version_major": 2,
       "version_minor": 0
      },
      "text/plain": [
       "FloatProgress(value=0.0, bar_style='info', description='Progress:', layout=Layout(height='25px', width='50%'),…"
      ]
     },
     "metadata": {},
     "output_type": "display_data"
    },
    {
     "name": "stdout",
     "output_type": "stream",
     "text": [
      "<pyspark.sql.session.SparkSession object at 0x7f16c8b80c90>"
     ]
    }
   ],
   "source": [
    "spark"
   ]
  },
  {
   "cell_type": "code",
   "execution_count": 2,
   "id": "c42d02fa",
   "metadata": {},
   "outputs": [
    {
     "data": {
      "application/vnd.jupyter.widget-view+json": {
       "model_id": "0821eb1f8b82432095f2ab1b1753dacc",
       "version_major": 2,
       "version_minor": 0
      },
      "text/plain": [
       "VBox()"
      ]
     },
     "metadata": {},
     "output_type": "display_data"
    },
    {
     "data": {
      "application/vnd.jupyter.widget-view+json": {
       "model_id": "",
       "version_major": 2,
       "version_minor": 0
      },
      "text/plain": [
       "FloatProgress(value=0.0, bar_style='info', description='Progress:', layout=Layout(height='25px', width='50%'),…"
      ]
     },
     "metadata": {},
     "output_type": "display_data"
    },
    {
     "name": "stdout",
     "output_type": "stream",
     "text": [
      "<class 'pyspark.sql.session.SparkSession'>"
     ]
    }
   ],
   "source": [
    "type(spark)"
   ]
  },
  {
   "cell_type": "markdown",
   "id": "9658f6c0",
   "metadata": {},
   "source": [
    "# Load ticket data from the S3 bucket"
   ]
  },
  {
   "cell_type": "code",
   "execution_count": 3,
   "id": "7186fd42",
   "metadata": {},
   "outputs": [
    {
     "data": {
      "application/vnd.jupyter.widget-view+json": {
       "model_id": "2b77da52bc7e4fb1ab7075a890d3ea2f",
       "version_major": 2,
       "version_minor": 0
      },
      "text/plain": [
       "VBox()"
      ]
     },
     "metadata": {},
     "output_type": "display_data"
    },
    {
     "data": {
      "application/vnd.jupyter.widget-view+json": {
       "model_id": "",
       "version_major": 2,
       "version_minor": 0
      },
      "text/plain": [
       "FloatProgress(value=0.0, bar_style='info', description='Progress:', layout=Layout(height='25px', width='50%'),…"
      ]
     },
     "metadata": {},
     "output_type": "display_data"
    }
   ],
   "source": [
    "s3_path = \"s3a://upgrad-data/Parking_Violation_Tickets.csv\"\n",
    "tickets = spark.read.csv(s3_path, header = True, inferSchema = True)"
   ]
  },
  {
   "cell_type": "markdown",
   "id": "f661422c",
   "metadata": {},
   "source": [
    "# Check schema of the dataframe"
   ]
  },
  {
   "cell_type": "code",
   "execution_count": 4,
   "id": "cba68023",
   "metadata": {
    "scrolled": false
   },
   "outputs": [
    {
     "data": {
      "application/vnd.jupyter.widget-view+json": {
       "model_id": "b62ef989e2944347ae777de847a9a2c9",
       "version_major": 2,
       "version_minor": 0
      },
      "text/plain": [
       "VBox()"
      ]
     },
     "metadata": {},
     "output_type": "display_data"
    },
    {
     "data": {
      "application/vnd.jupyter.widget-view+json": {
       "model_id": "",
       "version_major": 2,
       "version_minor": 0
      },
      "text/plain": [
       "FloatProgress(value=0.0, bar_style='info', description='Progress:', layout=Layout(height='25px', width='50%'),…"
      ]
     },
     "metadata": {},
     "output_type": "display_data"
    },
    {
     "name": "stdout",
     "output_type": "stream",
     "text": [
      "root\n",
      " |-- Summons Number: long (nullable = true)\n",
      " |-- Plate ID: string (nullable = true)\n",
      " |-- Registration State: string (nullable = true)\n",
      " |-- Plate Type: string (nullable = true)\n",
      " |-- Issue Date: string (nullable = true)\n",
      " |-- Violation Code: integer (nullable = true)\n",
      " |-- Vehicle Body Type: string (nullable = true)\n",
      " |-- Vehicle Make: string (nullable = true)\n",
      " |-- Issuing Agency: string (nullable = true)\n",
      " |-- Street Code1: integer (nullable = true)\n",
      " |-- Street Code2: integer (nullable = true)\n",
      " |-- Street Code3: integer (nullable = true)\n",
      " |-- Vehicle Expiration Date: integer (nullable = true)\n",
      " |-- Violation Location: integer (nullable = true)\n",
      " |-- Violation Precinct: integer (nullable = true)\n",
      " |-- Issuer Precinct: integer (nullable = true)\n",
      " |-- Issuer Code: integer (nullable = true)\n",
      " |-- Issuer Command: string (nullable = true)\n",
      " |-- Issuer Squad: string (nullable = true)\n",
      " |-- Violation Time: string (nullable = true)\n",
      " |-- Time First Observed: string (nullable = true)\n",
      " |-- Violation County: string (nullable = true)\n",
      " |-- Violation In Front Of Or Opposite: string (nullable = true)\n",
      " |-- House Number: string (nullable = true)\n",
      " |-- Street Name: string (nullable = true)\n",
      " |-- Intersecting Street: string (nullable = true)\n",
      " |-- Date First Observed: integer (nullable = true)\n",
      " |-- Law Section: integer (nullable = true)\n",
      " |-- Sub Division: string (nullable = true)\n",
      " |-- Violation Legal Code: string (nullable = true)\n",
      " |-- Days Parking In Effect    : string (nullable = true)\n",
      " |-- From Hours In Effect: string (nullable = true)\n",
      " |-- To Hours In Effect: string (nullable = true)\n",
      " |-- Vehicle Color: string (nullable = true)\n",
      " |-- Unregistered Vehicle?: integer (nullable = true)\n",
      " |-- Vehicle Year: integer (nullable = true)\n",
      " |-- Meter Number: string (nullable = true)\n",
      " |-- Feet From Curb: integer (nullable = true)\n",
      " |-- Violation Post Code: string (nullable = true)\n",
      " |-- Violation Description: string (nullable = true)\n",
      " |-- No Standing or Stopping Violation: string (nullable = true)\n",
      " |-- Hydrant Violation: string (nullable = true)\n",
      " |-- Double Parking Violation: string (nullable = true)"
     ]
    }
   ],
   "source": [
    "tickets.printSchema()"
   ]
  },
  {
   "cell_type": "markdown",
   "id": "47bdd673",
   "metadata": {},
   "source": [
    "# Import all SQL functions and create SQL view"
   ]
  },
  {
   "cell_type": "code",
   "execution_count": 5,
   "id": "11f08d9d",
   "metadata": {},
   "outputs": [
    {
     "data": {
      "application/vnd.jupyter.widget-view+json": {
       "model_id": "31fbf08223154eadae482157d319e7e8",
       "version_major": 2,
       "version_minor": 0
      },
      "text/plain": [
       "VBox()"
      ]
     },
     "metadata": {},
     "output_type": "display_data"
    },
    {
     "data": {
      "application/vnd.jupyter.widget-view+json": {
       "model_id": "",
       "version_major": 2,
       "version_minor": 0
      },
      "text/plain": [
       "FloatProgress(value=0.0, bar_style='info', description='Progress:', layout=Layout(height='25px', width='50%'),…"
      ]
     },
     "metadata": {},
     "output_type": "display_data"
    }
   ],
   "source": [
    "from pyspark.sql.functions import *\n",
    "tickets.createOrReplaceTempView(\"tickets_view\")"
   ]
  },
  {
   "cell_type": "markdown",
   "id": "2744384a",
   "metadata": {},
   "source": [
    "# Check for duplicate entries"
   ]
  },
  {
   "cell_type": "code",
   "execution_count": 6,
   "id": "92ded19e",
   "metadata": {},
   "outputs": [
    {
     "data": {
      "application/vnd.jupyter.widget-view+json": {
       "model_id": "2c3c213344934d72bc8426413da42611",
       "version_major": 2,
       "version_minor": 0
      },
      "text/plain": [
       "VBox()"
      ]
     },
     "metadata": {},
     "output_type": "display_data"
    },
    {
     "data": {
      "application/vnd.jupyter.widget-view+json": {
       "model_id": "",
       "version_major": 2,
       "version_minor": 0
      },
      "text/plain": [
       "FloatProgress(value=0.0, bar_style='info', description='Progress:', layout=Layout(height='25px', width='50%'),…"
      ]
     },
     "metadata": {},
     "output_type": "display_data"
    },
    {
     "name": "stdout",
     "output_type": "stream",
     "text": [
      "+--------------+-----------------------------------------------+\n",
      "|Summons Number|Number of duplicate occurance of summons number|\n",
      "+--------------+-----------------------------------------------+\n",
      "+--------------+-----------------------------------------------+"
     ]
    }
   ],
   "source": [
    "spark.sql(\"\\\n",
    "            SELECT `Summons Number`, COUNT(`Summons Number`) AS `Number of duplicate occurance of summons number`\\\n",
    "            FROM tickets_view\\\n",
    "            GROUP BY `Summons Number`\\\n",
    "            HAVING COUNT(`Summons Number`) > 1\\\n",
    "        \").show()"
   ]
  },
  {
   "cell_type": "markdown",
   "id": "8ac01134",
   "metadata": {},
   "source": [
    "# Total number of tickets"
   ]
  },
  {
   "cell_type": "code",
   "execution_count": 7,
   "id": "e6a45535",
   "metadata": {},
   "outputs": [
    {
     "data": {
      "application/vnd.jupyter.widget-view+json": {
       "model_id": "10f01b52146649eb9a47472a339a4c4a",
       "version_major": 2,
       "version_minor": 0
      },
      "text/plain": [
       "VBox()"
      ]
     },
     "metadata": {},
     "output_type": "display_data"
    },
    {
     "data": {
      "application/vnd.jupyter.widget-view+json": {
       "model_id": "",
       "version_major": 2,
       "version_minor": 0
      },
      "text/plain": [
       "FloatProgress(value=0.0, bar_style='info', description='Progress:', layout=Layout(height='25px', width='50%'),…"
      ]
     },
     "metadata": {},
     "output_type": "display_data"
    },
    {
     "name": "stdout",
     "output_type": "stream",
     "text": [
      "10803028"
     ]
    }
   ],
   "source": [
    "tickets.select(tickets[\"Summons Number\"]).count()"
   ]
  },
  {
   "cell_type": "markdown",
   "id": "d8567f00",
   "metadata": {},
   "source": [
    "# Number of unique states from where cars got parking ticket"
   ]
  },
  {
   "cell_type": "code",
   "execution_count": 8,
   "id": "32e37349",
   "metadata": {},
   "outputs": [
    {
     "data": {
      "application/vnd.jupyter.widget-view+json": {
       "model_id": "cdb35b5dac0348cbaea2fe4a8f607eaf",
       "version_major": 2,
       "version_minor": 0
      },
      "text/plain": [
       "VBox()"
      ]
     },
     "metadata": {},
     "output_type": "display_data"
    },
    {
     "data": {
      "application/vnd.jupyter.widget-view+json": {
       "model_id": "",
       "version_major": 2,
       "version_minor": 0
      },
      "text/plain": [
       "FloatProgress(value=0.0, bar_style='info', description='Progress:', layout=Layout(height='25px', width='50%'),…"
      ]
     },
     "metadata": {},
     "output_type": "display_data"
    },
    {
     "name": "stdout",
     "output_type": "stream",
     "text": [
      "+-----------------------+\n",
      "|Number of unique states|\n",
      "+-----------------------+\n",
      "|                     67|\n",
      "+-----------------------+"
     ]
    }
   ],
   "source": [
    "spark.sql(\"\\\n",
    "            SELECT COUNT(`Registration State`) as `Number of unique states`\\\n",
    "            FROM\\\n",
    "            (\\\n",
    "                SELECT `Registration State`\\\n",
    "                FROM tickets_view\\\n",
    "                GROUP BY `Registration State`\\\n",
    "            ) AS SUBQUERY\\\n",
    "            \").show()"
   ]
  },
  {
   "cell_type": "markdown",
   "id": "a9a6d38e",
   "metadata": {},
   "source": [
    "# State having the maximum tickets"
   ]
  },
  {
   "cell_type": "code",
   "execution_count": 9,
   "id": "d766c8f7",
   "metadata": {},
   "outputs": [
    {
     "data": {
      "application/vnd.jupyter.widget-view+json": {
       "model_id": "bc38c004299d4a95ad9263e290587b1e",
       "version_major": 2,
       "version_minor": 0
      },
      "text/plain": [
       "VBox()"
      ]
     },
     "metadata": {},
     "output_type": "display_data"
    },
    {
     "data": {
      "application/vnd.jupyter.widget-view+json": {
       "model_id": "",
       "version_major": 2,
       "version_minor": 0
      },
      "text/plain": [
       "FloatProgress(value=0.0, bar_style='info', description='Progress:', layout=Layout(height='25px', width='50%'),…"
      ]
     },
     "metadata": {},
     "output_type": "display_data"
    },
    {
     "name": "stdout",
     "output_type": "stream",
     "text": [
      "+------------------+-----------------+\n",
      "|Registration State|Number of tickets|\n",
      "+------------------+-----------------+\n",
      "|                NY|          8481061|\n",
      "+------------------+-----------------+"
     ]
    }
   ],
   "source": [
    "spark.sql(\"\\\n",
    "            SELECT `Registration State`, COUNT(`Summons Number`) as `Number of tickets`\\\n",
    "            FROM tickets_view\\\n",
    "            GROUP BY `Registration State`\\\n",
    "            ORDER BY `Number of Tickets` DESC\\\n",
    "            LIMIT 1\\\n",
    "            \").show()"
   ]
  },
  {
   "cell_type": "markdown",
   "id": "fca7a140",
   "metadata": {},
   "source": [
    "# Replace the numeric entry '99' with the state having maximum tickets"
   ]
  },
  {
   "cell_type": "code",
   "execution_count": 10,
   "id": "43184d29",
   "metadata": {},
   "outputs": [
    {
     "data": {
      "application/vnd.jupyter.widget-view+json": {
       "model_id": "4f5ad3445c5c4b7eaf710c0f55c3c82d",
       "version_major": 2,
       "version_minor": 0
      },
      "text/plain": [
       "VBox()"
      ]
     },
     "metadata": {},
     "output_type": "display_data"
    },
    {
     "data": {
      "application/vnd.jupyter.widget-view+json": {
       "model_id": "",
       "version_major": 2,
       "version_minor": 0
      },
      "text/plain": [
       "FloatProgress(value=0.0, bar_style='info', description='Progress:', layout=Layout(height='25px', width='50%'),…"
      ]
     },
     "metadata": {},
     "output_type": "display_data"
    }
   ],
   "source": [
    "tickets_updated = tickets.withColumn(\"Registration State\", when(tickets[\"Registration State\"] == '99', 'NY').otherwise(tickets[\"Registration State\"]))"
   ]
  },
  {
   "cell_type": "markdown",
   "id": "677e7db9",
   "metadata": {},
   "source": [
    "# Create SQL view of the updated dataframe"
   ]
  },
  {
   "cell_type": "code",
   "execution_count": 11,
   "id": "a9cb9d18",
   "metadata": {},
   "outputs": [
    {
     "data": {
      "application/vnd.jupyter.widget-view+json": {
       "model_id": "944ce6972d244302a3f7dd7ddac43a73",
       "version_major": 2,
       "version_minor": 0
      },
      "text/plain": [
       "VBox()"
      ]
     },
     "metadata": {},
     "output_type": "display_data"
    },
    {
     "data": {
      "application/vnd.jupyter.widget-view+json": {
       "model_id": "",
       "version_major": 2,
       "version_minor": 0
      },
      "text/plain": [
       "FloatProgress(value=0.0, bar_style='info', description='Progress:', layout=Layout(height='25px', width='50%'),…"
      ]
     },
     "metadata": {},
     "output_type": "display_data"
    }
   ],
   "source": [
    "tickets_updated.createOrReplaceTempView(\"tickets_view\")"
   ]
  },
  {
   "cell_type": "markdown",
   "id": "acac9d34",
   "metadata": {},
   "source": [
    "# Number of unique states from where cars got parking ticket\n"
   ]
  },
  {
   "cell_type": "code",
   "execution_count": 12,
   "id": "e89f42de",
   "metadata": {},
   "outputs": [
    {
     "data": {
      "application/vnd.jupyter.widget-view+json": {
       "model_id": "10a9818c7a714f2bb5341402f3b5be7f",
       "version_major": 2,
       "version_minor": 0
      },
      "text/plain": [
       "VBox()"
      ]
     },
     "metadata": {},
     "output_type": "display_data"
    },
    {
     "data": {
      "application/vnd.jupyter.widget-view+json": {
       "model_id": "",
       "version_major": 2,
       "version_minor": 0
      },
      "text/plain": [
       "FloatProgress(value=0.0, bar_style='info', description='Progress:', layout=Layout(height='25px', width='50%'),…"
      ]
     },
     "metadata": {},
     "output_type": "display_data"
    },
    {
     "name": "stdout",
     "output_type": "stream",
     "text": [
      "+-----------------------+\n",
      "|Number of unique states|\n",
      "+-----------------------+\n",
      "|                     66|\n",
      "+-----------------------+"
     ]
    }
   ],
   "source": [
    "spark.sql(\"\\\n",
    "            SELECT COUNT(`Registration State`) as `Number of unique states`\\\n",
    "            FROM\\\n",
    "            (\\\n",
    "                SELECT `Registration State`\\\n",
    "                FROM tickets_view\\\n",
    "                GROUP BY `Registration State`\\\n",
    "            ) AS SUBQUERY\\\n",
    "            \").show()"
   ]
  },
  {
   "cell_type": "markdown",
   "id": "ac6d7290",
   "metadata": {},
   "source": [
    "# Top twenty states with the most number of tickets"
   ]
  },
  {
   "cell_type": "code",
   "execution_count": 13,
   "id": "44bb9ee6",
   "metadata": {},
   "outputs": [
    {
     "data": {
      "application/vnd.jupyter.widget-view+json": {
       "model_id": "664d203206a24584aedf6992ffd2bf9e",
       "version_major": 2,
       "version_minor": 0
      },
      "text/plain": [
       "VBox()"
      ]
     },
     "metadata": {},
     "output_type": "display_data"
    },
    {
     "data": {
      "application/vnd.jupyter.widget-view+json": {
       "model_id": "",
       "version_major": 2,
       "version_minor": 0
      },
      "text/plain": [
       "FloatProgress(value=0.0, bar_style='info', description='Progress:', layout=Layout(height='25px', width='50%'),…"
      ]
     },
     "metadata": {},
     "output_type": "display_data"
    },
    {
     "name": "stdout",
     "output_type": "stream",
     "text": [
      "+------------------+-----------------+\n",
      "|Registration State|Number of tickets|\n",
      "+------------------+-----------------+\n",
      "|                NY|          8517686|\n",
      "|                NJ|           925965|\n",
      "|                PA|           285419|\n",
      "|                FL|           144556|\n",
      "|                CT|           141088|\n",
      "|                MA|            85547|\n",
      "|                IN|            80749|\n",
      "|                VA|            72626|\n",
      "|                MD|            61800|\n",
      "|                NC|            55806|\n",
      "|                IL|            37329|\n",
      "|                GA|            36852|\n",
      "|                TX|            36516|\n",
      "|                AZ|            26426|\n",
      "|                OH|            25302|\n",
      "|                CA|            24260|\n",
      "|                SC|            21836|\n",
      "|                ME|            21574|\n",
      "|                MN|            18227|\n",
      "|                OK|            18165|\n",
      "+------------------+-----------------+"
     ]
    }
   ],
   "source": [
    "spark.sql(\"\\\n",
    "            SELECT `Registration State`, COUNT(`Summons Number`) as `Number of tickets`\\\n",
    "            FROM tickets_view\\\n",
    "            GROUP BY `Registration State`\\\n",
    "            ORDER BY `Number of Tickets` DESC\\\n",
    "            LIMIT 20\\\n",
    "            \").show()"
   ]
  },
  {
   "cell_type": "markdown",
   "id": "a6ff0666",
   "metadata": {},
   "source": [
    "# Frequency of top five violation codes"
   ]
  },
  {
   "cell_type": "code",
   "execution_count": 14,
   "id": "f5617960",
   "metadata": {},
   "outputs": [
    {
     "data": {
      "application/vnd.jupyter.widget-view+json": {
       "model_id": "93aa148a177c4dd5a0a2c9b2cce75c44",
       "version_major": 2,
       "version_minor": 0
      },
      "text/plain": [
       "VBox()"
      ]
     },
     "metadata": {},
     "output_type": "display_data"
    },
    {
     "data": {
      "application/vnd.jupyter.widget-view+json": {
       "model_id": "",
       "version_major": 2,
       "version_minor": 0
      },
      "text/plain": [
       "FloatProgress(value=0.0, bar_style='info', description='Progress:', layout=Layout(height='25px', width='50%'),…"
      ]
     },
     "metadata": {},
     "output_type": "display_data"
    },
    {
     "name": "stdout",
     "output_type": "stream",
     "text": [
      "+--------------+--------------------+\n",
      "|Violation Code|Number of violations|\n",
      "+--------------+--------------------+\n",
      "|            21|             1528588|\n",
      "|            36|             1400614|\n",
      "|            38|             1062304|\n",
      "|            14|              893498|\n",
      "|            20|              618593|\n",
      "+--------------+--------------------+"
     ]
    }
   ],
   "source": [
    "spark.sql(\"\\\n",
    "            SELECT `Violation Code`, COUNT(`Summons Number`) as `Number of violations`\\\n",
    "            FROM tickets_view\\\n",
    "            GROUP BY `Violation Code`\\\n",
    "            ORDER BY `Number of violations` DESC\\\n",
    "            LIMIT 5\\\n",
    "            \").show()"
   ]
  },
  {
   "cell_type": "markdown",
   "id": "0a579aad",
   "metadata": {},
   "source": [
    "# Frequency of top five vehicle body type"
   ]
  },
  {
   "cell_type": "code",
   "execution_count": 15,
   "id": "34c05628",
   "metadata": {},
   "outputs": [
    {
     "data": {
      "application/vnd.jupyter.widget-view+json": {
       "model_id": "8cfe651886b94859b5bf39a562844234",
       "version_major": 2,
       "version_minor": 0
      },
      "text/plain": [
       "VBox()"
      ]
     },
     "metadata": {},
     "output_type": "display_data"
    },
    {
     "data": {
      "application/vnd.jupyter.widget-view+json": {
       "model_id": "",
       "version_major": 2,
       "version_minor": 0
      },
      "text/plain": [
       "FloatProgress(value=0.0, bar_style='info', description='Progress:', layout=Layout(height='25px', width='50%'),…"
      ]
     },
     "metadata": {},
     "output_type": "display_data"
    },
    {
     "name": "stdout",
     "output_type": "stream",
     "text": [
      "+-----------------+-----------------+\n",
      "|Vehicle Body Type|Number of tickets|\n",
      "+-----------------+-----------------+\n",
      "|             SUBN|          3719802|\n",
      "|             4DSD|          3082020|\n",
      "|              VAN|          1411970|\n",
      "|             DELV|           687330|\n",
      "|              SDN|           438191|\n",
      "+-----------------+-----------------+"
     ]
    }
   ],
   "source": [
    "spark.sql(\"\\\n",
    "            SELECT `Vehicle Body Type`, COUNT(`Summons Number`) as `Number of tickets`\\\n",
    "            FROM tickets_view\\\n",
    "            GROUP BY `Vehicle Body Type`\\\n",
    "            ORDER BY `Number of tickets` DESC\\\n",
    "            LIMIT 5\\\n",
    "            \").show()"
   ]
  },
  {
   "cell_type": "markdown",
   "id": "85b3479a",
   "metadata": {},
   "source": [
    "# Frequency of top five vehicle make"
   ]
  },
  {
   "cell_type": "code",
   "execution_count": 16,
   "id": "b58b8fb9",
   "metadata": {},
   "outputs": [
    {
     "data": {
      "application/vnd.jupyter.widget-view+json": {
       "model_id": "f0c972286a1d41e6abc0785e5c566b7e",
       "version_major": 2,
       "version_minor": 0
      },
      "text/plain": [
       "VBox()"
      ]
     },
     "metadata": {},
     "output_type": "display_data"
    },
    {
     "data": {
      "application/vnd.jupyter.widget-view+json": {
       "model_id": "",
       "version_major": 2,
       "version_minor": 0
      },
      "text/plain": [
       "FloatProgress(value=0.0, bar_style='info', description='Progress:', layout=Layout(height='25px', width='50%'),…"
      ]
     },
     "metadata": {},
     "output_type": "display_data"
    },
    {
     "name": "stdout",
     "output_type": "stream",
     "text": [
      "+------------+-----------------+\n",
      "|Vehicle Make|Number of tickets|\n",
      "+------------+-----------------+\n",
      "|        FORD|          1280958|\n",
      "|       TOYOT|          1211451|\n",
      "|       HONDA|          1079238|\n",
      "|       NISSA|           918590|\n",
      "|       CHEVR|           714655|\n",
      "+------------+-----------------+"
     ]
    }
   ],
   "source": [
    "spark.sql(\"\\\n",
    "            SELECT `Vehicle Make`, COUNT(`Summons Number`) as `Number of tickets`\\\n",
    "            FROM tickets_view\\\n",
    "            GROUP BY `Vehicle Make`\\\n",
    "            ORDER BY `Number of tickets` DESC\\\n",
    "            LIMIT 5\\\n",
    "            \").show()"
   ]
  },
  {
   "cell_type": "markdown",
   "id": "873131e5",
   "metadata": {},
   "source": [
    "# Divide the data into seasons"
   ]
  },
  {
   "cell_type": "markdown",
   "id": "9891cb49",
   "metadata": {},
   "source": [
    "# Assumptions\n",
    "\n",
    "|Season|Months|Months in numbers|\n",
    "|------|------|------|\n",
    "|Summer|March, April, May|3,4,5|\n",
    "|Monsoon|June, July, August|6,7,8|\n",
    "|Autumn|September, October, November|9,10,11|\n",
    "|Winter|December, January, February|12,1,2|"
   ]
  },
  {
   "cell_type": "markdown",
   "id": "93cfe275",
   "metadata": {},
   "source": [
    "# Cast string type as date type"
   ]
  },
  {
   "cell_type": "code",
   "execution_count": 19,
   "id": "8121c63a",
   "metadata": {},
   "outputs": [
    {
     "data": {
      "application/vnd.jupyter.widget-view+json": {
       "model_id": "c31194825b0e47a69a0a9f56baa820bc",
       "version_major": 2,
       "version_minor": 0
      },
      "text/plain": [
       "VBox()"
      ]
     },
     "metadata": {},
     "output_type": "display_data"
    },
    {
     "data": {
      "application/vnd.jupyter.widget-view+json": {
       "model_id": "",
       "version_major": 2,
       "version_minor": 0
      },
      "text/plain": [
       "FloatProgress(value=0.0, bar_style='info', description='Progress:', layout=Layout(height='25px', width='50%'),…"
      ]
     },
     "metadata": {},
     "output_type": "display_data"
    }
   ],
   "source": [
    "tickets_date_updated = tickets_updated.withColumn(\"Issue Date\", to_date(col(\"Issue Date\"), \"MM/dd/yyyy\"))"
   ]
  },
  {
   "cell_type": "markdown",
   "id": "51456bd3",
   "metadata": {},
   "source": [
    "# Create SQL view of the updated dataframe"
   ]
  },
  {
   "cell_type": "code",
   "execution_count": 20,
   "id": "4d83a9a1",
   "metadata": {},
   "outputs": [
    {
     "data": {
      "application/vnd.jupyter.widget-view+json": {
       "model_id": "abd4bc1a8c0845fb92ab4d04e1c2b5fc",
       "version_major": 2,
       "version_minor": 0
      },
      "text/plain": [
       "VBox()"
      ]
     },
     "metadata": {},
     "output_type": "display_data"
    },
    {
     "data": {
      "application/vnd.jupyter.widget-view+json": {
       "model_id": "",
       "version_major": 2,
       "version_minor": 0
      },
      "text/plain": [
       "FloatProgress(value=0.0, bar_style='info', description='Progress:', layout=Layout(height='25px', width='50%'),…"
      ]
     },
     "metadata": {},
     "output_type": "display_data"
    }
   ],
   "source": [
    "tickets_date_updated.createOrReplaceTempView(\"tickets_view\")"
   ]
  },
  {
   "cell_type": "markdown",
   "id": "14fd7b10",
   "metadata": {},
   "source": [
    "# Create dataframe segregating the data as per seasons defined in above assumption and keep only the required colums for further analysis"
   ]
  },
  {
   "cell_type": "code",
   "execution_count": 25,
   "id": "07b38d6d",
   "metadata": {},
   "outputs": [
    {
     "data": {
      "application/vnd.jupyter.widget-view+json": {
       "model_id": "04a1476a9f124d979cdc97f3b7c9605f",
       "version_major": 2,
       "version_minor": 0
      },
      "text/plain": [
       "VBox()"
      ]
     },
     "metadata": {},
     "output_type": "display_data"
    },
    {
     "data": {
      "application/vnd.jupyter.widget-view+json": {
       "model_id": "",
       "version_major": 2,
       "version_minor": 0
      },
      "text/plain": [
       "FloatProgress(value=0.0, bar_style='info', description='Progress:', layout=Layout(height='25px', width='50%'),…"
      ]
     },
     "metadata": {},
     "output_type": "display_data"
    }
   ],
   "source": [
    "tickets_seasonal = spark.sql(\"\\\n",
    "                                SELECT `Summons Number`, `Issue Date`, `Violation Code`,\\\n",
    "                                CASE\\\n",
    "                                    WHEN MONTH(`Issue Date`) IN (3,4,5) THEN 'Summer'\\\n",
    "                                    WHEN MONTH(`Issue Date`) IN (6,7,8) THEN 'Monsoon'\\\n",
    "                                    WHEN MONTH(`Issue Date`) IN (9,10,11) THEN 'Autumn'\\\n",
    "                                    WHEN MONTH(`Issue Date`) IN (12,1,2) THEN 'Winter'\\\n",
    "                                    ELSE 'Invalid'\\\n",
    "                                END AS `Season`\\\n",
    "                                FROM tickets_view\\\n",
    "                            \")"
   ]
  },
  {
   "cell_type": "markdown",
   "id": "b4b294e4",
   "metadata": {},
   "source": [
    "# Create SQL view of the dataframe"
   ]
  },
  {
   "cell_type": "code",
   "execution_count": 27,
   "id": "241c94bd",
   "metadata": {},
   "outputs": [
    {
     "data": {
      "application/vnd.jupyter.widget-view+json": {
       "model_id": "d33c3b2076264f8a87c4220e651a5ecb",
       "version_major": 2,
       "version_minor": 0
      },
      "text/plain": [
       "VBox()"
      ]
     },
     "metadata": {},
     "output_type": "display_data"
    },
    {
     "data": {
      "application/vnd.jupyter.widget-view+json": {
       "model_id": "",
       "version_major": 2,
       "version_minor": 0
      },
      "text/plain": [
       "FloatProgress(value=0.0, bar_style='info', description='Progress:', layout=Layout(height='25px', width='50%'),…"
      ]
     },
     "metadata": {},
     "output_type": "display_data"
    }
   ],
   "source": [
    "tickets_seasonal.createOrReplaceTempView(\"tickets_seasonal_view\")"
   ]
  },
  {
   "cell_type": "markdown",
   "id": "97014098",
   "metadata": {},
   "source": [
    "# Seasonal frequency of tickets"
   ]
  },
  {
   "cell_type": "code",
   "execution_count": 28,
   "id": "178c05d7",
   "metadata": {},
   "outputs": [
    {
     "data": {
      "application/vnd.jupyter.widget-view+json": {
       "model_id": "55d44571149e40aabcd933c9e36b85a8",
       "version_major": 2,
       "version_minor": 0
      },
      "text/plain": [
       "VBox()"
      ]
     },
     "metadata": {},
     "output_type": "display_data"
    },
    {
     "data": {
      "application/vnd.jupyter.widget-view+json": {
       "model_id": "",
       "version_major": 2,
       "version_minor": 0
      },
      "text/plain": [
       "FloatProgress(value=0.0, bar_style='info', description='Progress:', layout=Layout(height='25px', width='50%'),…"
      ]
     },
     "metadata": {},
     "output_type": "display_data"
    },
    {
     "name": "stdout",
     "output_type": "stream",
     "text": [
      "+-------+-----------------+\n",
      "| Season|Number of tickets|\n",
      "+-------+-----------------+\n",
      "| Summer|          2880687|\n",
      "| Autumn|          2830802|\n",
      "|Monsoon|          2606208|\n",
      "| Winter|          2485331|\n",
      "+-------+-----------------+"
     ]
    }
   ],
   "source": [
    "spark.sql(\"\\\n",
    "            SELECT `Season`, COUNT(`Summons Number`) as `Number of tickets`\\\n",
    "            FROM tickets_seasonal_view\\\n",
    "            GROUP BY `Season`\\\n",
    "            ORDER BY `Number of tickets` DESC\\\n",
    "            \").show()"
   ]
  },
  {
   "cell_type": "markdown",
   "id": "c9d796a3",
   "metadata": {},
   "source": [
    "# Three most common violations for each season"
   ]
  },
  {
   "cell_type": "markdown",
   "id": "c09bc52d",
   "metadata": {},
   "source": [
    "### Summer"
   ]
  },
  {
   "cell_type": "code",
   "execution_count": 32,
   "id": "0fca8814",
   "metadata": {},
   "outputs": [
    {
     "data": {
      "application/vnd.jupyter.widget-view+json": {
       "model_id": "49e83a7278554c80bb7498e38315c438",
       "version_major": 2,
       "version_minor": 0
      },
      "text/plain": [
       "VBox()"
      ]
     },
     "metadata": {},
     "output_type": "display_data"
    },
    {
     "data": {
      "application/vnd.jupyter.widget-view+json": {
       "model_id": "",
       "version_major": 2,
       "version_minor": 0
      },
      "text/plain": [
       "FloatProgress(value=0.0, bar_style='info', description='Progress:', layout=Layout(height='25px', width='50%'),…"
      ]
     },
     "metadata": {},
     "output_type": "display_data"
    },
    {
     "name": "stdout",
     "output_type": "stream",
     "text": [
      "+--------------+---------+\n",
      "|Violation Code|Frequency|\n",
      "+--------------+---------+\n",
      "|            21|   402807|\n",
      "|            36|   344834|\n",
      "|            38|   271192|\n",
      "+--------------+---------+"
     ]
    }
   ],
   "source": [
    "spark.sql(\"\\\n",
    "            SELECT `Violation Code`, COUNT(`Summons Number`) AS `Frequency`\\\n",
    "            FROM `tickets_seasonal_view`\\\n",
    "            WHERE `Season` = 'Summer'\\\n",
    "            GROUP BY `Violation Code`\\\n",
    "            ORDER BY `Frequency` DESC\\\n",
    "            LIMIT 3\\\n",
    "          \").show()"
   ]
  },
  {
   "cell_type": "markdown",
   "id": "cd3a3ce6",
   "metadata": {},
   "source": [
    "### Monsoon"
   ]
  },
  {
   "cell_type": "code",
   "execution_count": 33,
   "id": "d3a72f99",
   "metadata": {},
   "outputs": [
    {
     "data": {
      "application/vnd.jupyter.widget-view+json": {
       "model_id": "0b2ffa8ee26f406eaf52a8fc8fd78e15",
       "version_major": 2,
       "version_minor": 0
      },
      "text/plain": [
       "VBox()"
      ]
     },
     "metadata": {},
     "output_type": "display_data"
    },
    {
     "data": {
      "application/vnd.jupyter.widget-view+json": {
       "model_id": "",
       "version_major": 2,
       "version_minor": 0
      },
      "text/plain": [
       "FloatProgress(value=0.0, bar_style='info', description='Progress:', layout=Layout(height='25px', width='50%'),…"
      ]
     },
     "metadata": {},
     "output_type": "display_data"
    },
    {
     "name": "stdout",
     "output_type": "stream",
     "text": [
      "+--------------+---------+\n",
      "|Violation Code|Frequency|\n",
      "+--------------+---------+\n",
      "|            21|   405961|\n",
      "|            38|   247561|\n",
      "|            36|   240396|\n",
      "+--------------+---------+"
     ]
    }
   ],
   "source": [
    "spark.sql(\"\\\n",
    "            SELECT `Violation Code`, COUNT(`Summons Number`) AS `Frequency`\\\n",
    "            FROM `tickets_seasonal_view`\\\n",
    "            WHERE `Season` = 'Monsoon'\\\n",
    "            GROUP BY `Violation Code`\\\n",
    "            ORDER BY `Frequency` DESC\\\n",
    "            LIMIT 3\\\n",
    "          \").show()"
   ]
  },
  {
   "cell_type": "markdown",
   "id": "7b049075",
   "metadata": {},
   "source": [
    "### Autumn"
   ]
  },
  {
   "cell_type": "code",
   "execution_count": 34,
   "id": "c4802a23",
   "metadata": {},
   "outputs": [
    {
     "data": {
      "application/vnd.jupyter.widget-view+json": {
       "model_id": "f8a097a7c775420eaeda75b2ae448ece",
       "version_major": 2,
       "version_minor": 0
      },
      "text/plain": [
       "VBox()"
      ]
     },
     "metadata": {},
     "output_type": "display_data"
    },
    {
     "data": {
      "application/vnd.jupyter.widget-view+json": {
       "model_id": "",
       "version_major": 2,
       "version_minor": 0
      },
      "text/plain": [
       "FloatProgress(value=0.0, bar_style='info', description='Progress:', layout=Layout(height='25px', width='50%'),…"
      ]
     },
     "metadata": {},
     "output_type": "display_data"
    },
    {
     "name": "stdout",
     "output_type": "stream",
     "text": [
      "+--------------+---------+\n",
      "|Violation Code|Frequency|\n",
      "+--------------+---------+\n",
      "|            36|   456046|\n",
      "|            21|   357479|\n",
      "|            38|   283828|\n",
      "+--------------+---------+"
     ]
    }
   ],
   "source": [
    "spark.sql(\"\\\n",
    "            SELECT `Violation Code`, COUNT(`Summons Number`) AS `Frequency`\\\n",
    "            FROM `tickets_seasonal_view`\\\n",
    "            WHERE `Season` = 'Autumn'\\\n",
    "            GROUP BY `Violation Code`\\\n",
    "            ORDER BY `Frequency` DESC\\\n",
    "            LIMIT 3\\\n",
    "          \").show()"
   ]
  },
  {
   "cell_type": "markdown",
   "id": "e53da9e4",
   "metadata": {},
   "source": [
    "### Winter"
   ]
  },
  {
   "cell_type": "code",
   "execution_count": 35,
   "id": "c5e6ff51",
   "metadata": {},
   "outputs": [
    {
     "data": {
      "application/vnd.jupyter.widget-view+json": {
       "model_id": "937a2a60b03d4505a738870705a736ed",
       "version_major": 2,
       "version_minor": 0
      },
      "text/plain": [
       "VBox()"
      ]
     },
     "metadata": {},
     "output_type": "display_data"
    },
    {
     "data": {
      "application/vnd.jupyter.widget-view+json": {
       "model_id": "",
       "version_major": 2,
       "version_minor": 0
      },
      "text/plain": [
       "FloatProgress(value=0.0, bar_style='info', description='Progress:', layout=Layout(height='25px', width='50%'),…"
      ]
     },
     "metadata": {},
     "output_type": "display_data"
    },
    {
     "name": "stdout",
     "output_type": "stream",
     "text": [
      "+--------------+---------+\n",
      "|Violation Code|Frequency|\n",
      "+--------------+---------+\n",
      "|            21|   362341|\n",
      "|            36|   359338|\n",
      "|            38|   259723|\n",
      "+--------------+---------+"
     ]
    }
   ],
   "source": [
    "spark.sql(\"\\\n",
    "            SELECT `Violation Code`, COUNT(`Summons Number`) AS `Frequency`\\\n",
    "            FROM `tickets_seasonal_view`\\\n",
    "            WHERE `Season` = 'Winter'\\\n",
    "            GROUP BY `Violation Code`\\\n",
    "            ORDER BY `Frequency` DESC\\\n",
    "            LIMIT 3\\\n",
    "          \").show()"
   ]
  },
  {
   "cell_type": "code",
   "execution_count": null,
   "id": "78b6b47a",
   "metadata": {},
   "outputs": [],
   "source": []
  }
 ],
 "metadata": {
  "kernelspec": {
   "display_name": "PySpark",
   "language": "",
   "name": "pysparkkernel"
  },
  "language_info": {
   "codemirror_mode": {
    "name": "python",
    "version": 2
   },
   "mimetype": "text/x-python",
   "name": "pyspark",
   "pygments_lexer": "python2"
  }
 },
 "nbformat": 4,
 "nbformat_minor": 5
}
