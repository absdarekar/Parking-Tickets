{
 "cells": [
  {
   "cell_type": "markdown",
   "id": "1e724ba9",
   "metadata": {},
   "source": [
    "# Start spark application (spark session)"
   ]
  },
  {
   "cell_type": "code",
   "execution_count": 1,
   "id": "aeb74daf",
   "metadata": {},
   "outputs": [
    {
     "data": {
      "application/vnd.jupyter.widget-view+json": {
       "model_id": "6862ef6375984a6ab5471686b7cd097a",
       "version_major": 2,
       "version_minor": 0
      },
      "text/plain": [
       "VBox()"
      ]
     },
     "metadata": {},
     "output_type": "display_data"
    },
    {
     "name": "stdout",
     "output_type": "stream",
     "text": [
      "Starting Spark application\n"
     ]
    },
    {
     "data": {
      "text/html": [
       "<table>\n",
       "<tr><th>ID</th><th>YARN Application ID</th><th>Kind</th><th>State</th><th>Spark UI</th><th>Driver log</th><th>Current session?</th></tr><tr><td>5</td><td>application_1649133354814_0006</td><td>pyspark</td><td>idle</td><td><a target=\"_blank\" href=\"http://ip-10-0-0-90.ec2.internal:20888/proxy/application_1649133354814_0006/\">Link</a></td><td><a target=\"_blank\" href=\"http://ip-10-0-0-90.ec2.internal:8042/node/containerlogs/container_1649133354814_0006_01_000001/livy\">Link</a></td><td>✔</td></tr></table>"
      ],
      "text/plain": [
       "<IPython.core.display.HTML object>"
      ]
     },
     "metadata": {},
     "output_type": "display_data"
    },
    {
     "data": {
      "application/vnd.jupyter.widget-view+json": {
       "model_id": "",
       "version_major": 2,
       "version_minor": 0
      },
      "text/plain": [
       "FloatProgress(value=0.0, bar_style='info', description='Progress:', layout=Layout(height='25px', width='50%'),…"
      ]
     },
     "metadata": {},
     "output_type": "display_data"
    },
    {
     "name": "stdout",
     "output_type": "stream",
     "text": [
      "SparkSession available as 'spark'.\n"
     ]
    },
    {
     "data": {
      "application/vnd.jupyter.widget-view+json": {
       "model_id": "",
       "version_major": 2,
       "version_minor": 0
      },
      "text/plain": [
       "FloatProgress(value=0.0, bar_style='info', description='Progress:', layout=Layout(height='25px', width='50%'),…"
      ]
     },
     "metadata": {},
     "output_type": "display_data"
    },
    {
     "name": "stdout",
     "output_type": "stream",
     "text": [
      "<pyspark.sql.session.SparkSession object at 0x7f346b18dc10>"
     ]
    }
   ],
   "source": [
    "spark"
   ]
  },
  {
   "cell_type": "code",
   "execution_count": 2,
   "id": "c42d02fa",
   "metadata": {},
   "outputs": [
    {
     "data": {
      "application/vnd.jupyter.widget-view+json": {
       "model_id": "59fd49d39dba4ed4b8cf2dc2c425b071",
       "version_major": 2,
       "version_minor": 0
      },
      "text/plain": [
       "VBox()"
      ]
     },
     "metadata": {},
     "output_type": "display_data"
    },
    {
     "data": {
      "application/vnd.jupyter.widget-view+json": {
       "model_id": "",
       "version_major": 2,
       "version_minor": 0
      },
      "text/plain": [
       "FloatProgress(value=0.0, bar_style='info', description='Progress:', layout=Layout(height='25px', width='50%'),…"
      ]
     },
     "metadata": {},
     "output_type": "display_data"
    },
    {
     "name": "stdout",
     "output_type": "stream",
     "text": [
      "<class 'pyspark.sql.session.SparkSession'>"
     ]
    }
   ],
   "source": [
    "type(spark)"
   ]
  },
  {
   "cell_type": "markdown",
   "id": "9658f6c0",
   "metadata": {},
   "source": [
    "# Load ticket data from the S3 bucket"
   ]
  },
  {
   "cell_type": "code",
   "execution_count": 3,
   "id": "7186fd42",
   "metadata": {},
   "outputs": [
    {
     "data": {
      "application/vnd.jupyter.widget-view+json": {
       "model_id": "4838017bb4ad4b7ba6226e7452c02007",
       "version_major": 2,
       "version_minor": 0
      },
      "text/plain": [
       "VBox()"
      ]
     },
     "metadata": {},
     "output_type": "display_data"
    },
    {
     "data": {
      "application/vnd.jupyter.widget-view+json": {
       "model_id": "",
       "version_major": 2,
       "version_minor": 0
      },
      "text/plain": [
       "FloatProgress(value=0.0, bar_style='info', description='Progress:', layout=Layout(height='25px', width='50%'),…"
      ]
     },
     "metadata": {},
     "output_type": "display_data"
    }
   ],
   "source": [
    "s3_path = \"s3a://upgrad-data/Parking_Violation_Tickets.csv\"\n",
    "tickets = spark.read.csv(s3_path, header = True, inferSchema = True)"
   ]
  },
  {
   "cell_type": "markdown",
   "id": "f661422c",
   "metadata": {},
   "source": [
    "# Check schema of the DataFrame"
   ]
  },
  {
   "cell_type": "code",
   "execution_count": 4,
   "id": "cba68023",
   "metadata": {
    "scrolled": false
   },
   "outputs": [
    {
     "data": {
      "application/vnd.jupyter.widget-view+json": {
       "model_id": "c26aebd292c049b79448044201364c14",
       "version_major": 2,
       "version_minor": 0
      },
      "text/plain": [
       "VBox()"
      ]
     },
     "metadata": {},
     "output_type": "display_data"
    },
    {
     "data": {
      "application/vnd.jupyter.widget-view+json": {
       "model_id": "",
       "version_major": 2,
       "version_minor": 0
      },
      "text/plain": [
       "FloatProgress(value=0.0, bar_style='info', description='Progress:', layout=Layout(height='25px', width='50%'),…"
      ]
     },
     "metadata": {},
     "output_type": "display_data"
    },
    {
     "name": "stdout",
     "output_type": "stream",
     "text": [
      "root\n",
      " |-- Summons Number: long (nullable = true)\n",
      " |-- Plate ID: string (nullable = true)\n",
      " |-- Registration State: string (nullable = true)\n",
      " |-- Plate Type: string (nullable = true)\n",
      " |-- Issue Date: string (nullable = true)\n",
      " |-- Violation Code: integer (nullable = true)\n",
      " |-- Vehicle Body Type: string (nullable = true)\n",
      " |-- Vehicle Make: string (nullable = true)\n",
      " |-- Issuing Agency: string (nullable = true)\n",
      " |-- Street Code1: integer (nullable = true)\n",
      " |-- Street Code2: integer (nullable = true)\n",
      " |-- Street Code3: integer (nullable = true)\n",
      " |-- Vehicle Expiration Date: integer (nullable = true)\n",
      " |-- Violation Location: integer (nullable = true)\n",
      " |-- Violation Precinct: integer (nullable = true)\n",
      " |-- Issuer Precinct: integer (nullable = true)\n",
      " |-- Issuer Code: integer (nullable = true)\n",
      " |-- Issuer Command: string (nullable = true)\n",
      " |-- Issuer Squad: string (nullable = true)\n",
      " |-- Violation Time: string (nullable = true)\n",
      " |-- Time First Observed: string (nullable = true)\n",
      " |-- Violation County: string (nullable = true)\n",
      " |-- Violation In Front Of Or Opposite: string (nullable = true)\n",
      " |-- House Number: string (nullable = true)\n",
      " |-- Street Name: string (nullable = true)\n",
      " |-- Intersecting Street: string (nullable = true)\n",
      " |-- Date First Observed: integer (nullable = true)\n",
      " |-- Law Section: integer (nullable = true)\n",
      " |-- Sub Division: string (nullable = true)\n",
      " |-- Violation Legal Code: string (nullable = true)\n",
      " |-- Days Parking In Effect    : string (nullable = true)\n",
      " |-- From Hours In Effect: string (nullable = true)\n",
      " |-- To Hours In Effect: string (nullable = true)\n",
      " |-- Vehicle Color: string (nullable = true)\n",
      " |-- Unregistered Vehicle?: integer (nullable = true)\n",
      " |-- Vehicle Year: integer (nullable = true)\n",
      " |-- Meter Number: string (nullable = true)\n",
      " |-- Feet From Curb: integer (nullable = true)\n",
      " |-- Violation Post Code: string (nullable = true)\n",
      " |-- Violation Description: string (nullable = true)\n",
      " |-- No Standing or Stopping Violation: string (nullable = true)\n",
      " |-- Hydrant Violation: string (nullable = true)\n",
      " |-- Double Parking Violation: string (nullable = true)"
     ]
    }
   ],
   "source": [
    "tickets.printSchema()"
   ]
  },
  {
   "cell_type": "markdown",
   "id": "47bdd673",
   "metadata": {},
   "source": [
    "# Import all SQL functions and create SQL view"
   ]
  },
  {
   "cell_type": "code",
   "execution_count": 5,
   "id": "11f08d9d",
   "metadata": {},
   "outputs": [
    {
     "data": {
      "application/vnd.jupyter.widget-view+json": {
       "model_id": "acfbb113ba3845999a308b0e588f9013",
       "version_major": 2,
       "version_minor": 0
      },
      "text/plain": [
       "VBox()"
      ]
     },
     "metadata": {},
     "output_type": "display_data"
    },
    {
     "data": {
      "application/vnd.jupyter.widget-view+json": {
       "model_id": "",
       "version_major": 2,
       "version_minor": 0
      },
      "text/plain": [
       "FloatProgress(value=0.0, bar_style='info', description='Progress:', layout=Layout(height='25px', width='50%'),…"
      ]
     },
     "metadata": {},
     "output_type": "display_data"
    }
   ],
   "source": [
    "from pyspark.sql.functions import *\n",
    "tickets.createOrReplaceTempView(\"tickets_view\")"
   ]
  },
  {
   "cell_type": "markdown",
   "id": "2744384a",
   "metadata": {},
   "source": [
    "# Check for duplicate entries"
   ]
  },
  {
   "cell_type": "code",
   "execution_count": 6,
   "id": "92ded19e",
   "metadata": {},
   "outputs": [
    {
     "data": {
      "application/vnd.jupyter.widget-view+json": {
       "model_id": "cbb867c66fd94939b17c338528302e7f",
       "version_major": 2,
       "version_minor": 0
      },
      "text/plain": [
       "VBox()"
      ]
     },
     "metadata": {},
     "output_type": "display_data"
    },
    {
     "data": {
      "application/vnd.jupyter.widget-view+json": {
       "model_id": "",
       "version_major": 2,
       "version_minor": 0
      },
      "text/plain": [
       "FloatProgress(value=0.0, bar_style='info', description='Progress:', layout=Layout(height='25px', width='50%'),…"
      ]
     },
     "metadata": {},
     "output_type": "display_data"
    },
    {
     "name": "stdout",
     "output_type": "stream",
     "text": [
      "+--------------+-----------------------------------------------+\n",
      "|Summons Number|Number of duplicate occurance of summons number|\n",
      "+--------------+-----------------------------------------------+\n",
      "+--------------+-----------------------------------------------+"
     ]
    }
   ],
   "source": [
    "spark.sql(\"\\\n",
    "            SELECT `Summons Number`, COUNT(`Summons Number`) AS `Number of duplicate occurance of summons number`\\\n",
    "            FROM tickets_view\\\n",
    "            GROUP BY `Summons Number`\\\n",
    "            HAVING COUNT(`Summons Number`) > 1\\\n",
    "        \").show()"
   ]
  },
  {
   "cell_type": "markdown",
   "id": "8ac01134",
   "metadata": {},
   "source": [
    "# Total number of tickets"
   ]
  },
  {
   "cell_type": "code",
   "execution_count": 7,
   "id": "e6a45535",
   "metadata": {},
   "outputs": [
    {
     "data": {
      "application/vnd.jupyter.widget-view+json": {
       "model_id": "7034646ec7d148b89a25ffb33219ab1e",
       "version_major": 2,
       "version_minor": 0
      },
      "text/plain": [
       "VBox()"
      ]
     },
     "metadata": {},
     "output_type": "display_data"
    },
    {
     "data": {
      "application/vnd.jupyter.widget-view+json": {
       "model_id": "",
       "version_major": 2,
       "version_minor": 0
      },
      "text/plain": [
       "FloatProgress(value=0.0, bar_style='info', description='Progress:', layout=Layout(height='25px', width='50%'),…"
      ]
     },
     "metadata": {},
     "output_type": "display_data"
    },
    {
     "name": "stdout",
     "output_type": "stream",
     "text": [
      "10803028"
     ]
    }
   ],
   "source": [
    "tickets.select(tickets[\"Summons Number\"]).count()"
   ]
  },
  {
   "cell_type": "markdown",
   "id": "d8567f00",
   "metadata": {},
   "source": [
    "# Number of unique states from where cars got parking ticket"
   ]
  },
  {
   "cell_type": "code",
   "execution_count": 8,
   "id": "32e37349",
   "metadata": {},
   "outputs": [
    {
     "data": {
      "application/vnd.jupyter.widget-view+json": {
       "model_id": "0f2ebedd9b6346acb92a18b49526b4c5",
       "version_major": 2,
       "version_minor": 0
      },
      "text/plain": [
       "VBox()"
      ]
     },
     "metadata": {},
     "output_type": "display_data"
    },
    {
     "data": {
      "application/vnd.jupyter.widget-view+json": {
       "model_id": "",
       "version_major": 2,
       "version_minor": 0
      },
      "text/plain": [
       "FloatProgress(value=0.0, bar_style='info', description='Progress:', layout=Layout(height='25px', width='50%'),…"
      ]
     },
     "metadata": {},
     "output_type": "display_data"
    },
    {
     "name": "stdout",
     "output_type": "stream",
     "text": [
      "+-----------------------+\n",
      "|Number of unique states|\n",
      "+-----------------------+\n",
      "|                     67|\n",
      "+-----------------------+"
     ]
    }
   ],
   "source": [
    "spark.sql(\"\\\n",
    "            SELECT COUNT(`Registration State`) as `Number of unique states`\\\n",
    "            FROM\\\n",
    "            (\\\n",
    "                SELECT `Registration State`\\\n",
    "                FROM tickets_view\\\n",
    "                GROUP BY `Registration State`\\\n",
    "            ) AS SUBQUERY\\\n",
    "            \").show()"
   ]
  },
  {
   "cell_type": "markdown",
   "id": "a9a6d38e",
   "metadata": {},
   "source": [
    "# State having the maximum tickets"
   ]
  },
  {
   "cell_type": "code",
   "execution_count": 9,
   "id": "d766c8f7",
   "metadata": {},
   "outputs": [
    {
     "data": {
      "application/vnd.jupyter.widget-view+json": {
       "model_id": "004b86edbb874565b15161b3e9aa3770",
       "version_major": 2,
       "version_minor": 0
      },
      "text/plain": [
       "VBox()"
      ]
     },
     "metadata": {},
     "output_type": "display_data"
    },
    {
     "data": {
      "application/vnd.jupyter.widget-view+json": {
       "model_id": "",
       "version_major": 2,
       "version_minor": 0
      },
      "text/plain": [
       "FloatProgress(value=0.0, bar_style='info', description='Progress:', layout=Layout(height='25px', width='50%'),…"
      ]
     },
     "metadata": {},
     "output_type": "display_data"
    },
    {
     "name": "stdout",
     "output_type": "stream",
     "text": [
      "+------------------+-----------------+\n",
      "|Registration State|Number of tickets|\n",
      "+------------------+-----------------+\n",
      "|                NY|          8481061|\n",
      "+------------------+-----------------+"
     ]
    }
   ],
   "source": [
    "spark.sql(\"\\\n",
    "            SELECT `Registration State`, COUNT(`Summons Number`) as `Number of tickets`\\\n",
    "            FROM tickets_view\\\n",
    "            GROUP BY `Registration State`\\\n",
    "            ORDER BY `Number of Tickets` DESC\\\n",
    "            LIMIT 1\\\n",
    "            \").show()"
   ]
  },
  {
   "cell_type": "markdown",
   "id": "fca7a140",
   "metadata": {},
   "source": [
    "# Replace the numeric entry '99' with the state having maximum tickets"
   ]
  },
  {
   "cell_type": "code",
   "execution_count": 10,
   "id": "43184d29",
   "metadata": {},
   "outputs": [
    {
     "data": {
      "application/vnd.jupyter.widget-view+json": {
       "model_id": "c57094a92f0243898a8cf50d835fc197",
       "version_major": 2,
       "version_minor": 0
      },
      "text/plain": [
       "VBox()"
      ]
     },
     "metadata": {},
     "output_type": "display_data"
    },
    {
     "data": {
      "application/vnd.jupyter.widget-view+json": {
       "model_id": "",
       "version_major": 2,
       "version_minor": 0
      },
      "text/plain": [
       "FloatProgress(value=0.0, bar_style='info', description='Progress:', layout=Layout(height='25px', width='50%'),…"
      ]
     },
     "metadata": {},
     "output_type": "display_data"
    }
   ],
   "source": [
    "tickets_updated = tickets.withColumn(\"Registration State\", when(tickets[\"Registration State\"] == '99', 'NY').otherwise(tickets[\"Registration State\"]))"
   ]
  },
  {
   "cell_type": "markdown",
   "id": "677e7db9",
   "metadata": {},
   "source": [
    "# Create SQL view of the updated DataFrame"
   ]
  },
  {
   "cell_type": "code",
   "execution_count": 11,
   "id": "a9cb9d18",
   "metadata": {},
   "outputs": [
    {
     "data": {
      "application/vnd.jupyter.widget-view+json": {
       "model_id": "351aa15793924cd897068ec1c07ad324",
       "version_major": 2,
       "version_minor": 0
      },
      "text/plain": [
       "VBox()"
      ]
     },
     "metadata": {},
     "output_type": "display_data"
    },
    {
     "data": {
      "application/vnd.jupyter.widget-view+json": {
       "model_id": "",
       "version_major": 2,
       "version_minor": 0
      },
      "text/plain": [
       "FloatProgress(value=0.0, bar_style='info', description='Progress:', layout=Layout(height='25px', width='50%'),…"
      ]
     },
     "metadata": {},
     "output_type": "display_data"
    }
   ],
   "source": [
    "tickets_updated.createOrReplaceTempView(\"tickets_view\")"
   ]
  },
  {
   "cell_type": "markdown",
   "id": "acac9d34",
   "metadata": {},
   "source": [
    "# Number of unique states from where cars got parking ticket\n"
   ]
  },
  {
   "cell_type": "code",
   "execution_count": 12,
   "id": "e89f42de",
   "metadata": {},
   "outputs": [
    {
     "data": {
      "application/vnd.jupyter.widget-view+json": {
       "model_id": "68f699d7b320400dbde56eaa7e89b713",
       "version_major": 2,
       "version_minor": 0
      },
      "text/plain": [
       "VBox()"
      ]
     },
     "metadata": {},
     "output_type": "display_data"
    },
    {
     "data": {
      "application/vnd.jupyter.widget-view+json": {
       "model_id": "",
       "version_major": 2,
       "version_minor": 0
      },
      "text/plain": [
       "FloatProgress(value=0.0, bar_style='info', description='Progress:', layout=Layout(height='25px', width='50%'),…"
      ]
     },
     "metadata": {},
     "output_type": "display_data"
    },
    {
     "name": "stdout",
     "output_type": "stream",
     "text": [
      "+-----------------------+\n",
      "|Number of unique states|\n",
      "+-----------------------+\n",
      "|                     66|\n",
      "+-----------------------+"
     ]
    }
   ],
   "source": [
    "spark.sql(\"\\\n",
    "            SELECT COUNT(`Registration State`) as `Number of unique states`\\\n",
    "            FROM\\\n",
    "            (\\\n",
    "                SELECT `Registration State`\\\n",
    "                FROM tickets_view\\\n",
    "                GROUP BY `Registration State`\\\n",
    "            ) AS SUBQUERY\\\n",
    "            \").show()"
   ]
  },
  {
   "cell_type": "markdown",
   "id": "ac6d7290",
   "metadata": {},
   "source": [
    "# Top twenty states with the most number of tickets"
   ]
  },
  {
   "cell_type": "code",
   "execution_count": 13,
   "id": "44bb9ee6",
   "metadata": {},
   "outputs": [
    {
     "data": {
      "application/vnd.jupyter.widget-view+json": {
       "model_id": "97c17bb7f47a4477a0b2c786b13e2197",
       "version_major": 2,
       "version_minor": 0
      },
      "text/plain": [
       "VBox()"
      ]
     },
     "metadata": {},
     "output_type": "display_data"
    },
    {
     "data": {
      "application/vnd.jupyter.widget-view+json": {
       "model_id": "",
       "version_major": 2,
       "version_minor": 0
      },
      "text/plain": [
       "FloatProgress(value=0.0, bar_style='info', description='Progress:', layout=Layout(height='25px', width='50%'),…"
      ]
     },
     "metadata": {},
     "output_type": "display_data"
    },
    {
     "name": "stdout",
     "output_type": "stream",
     "text": [
      "+------------------+-----------------+\n",
      "|Registration State|Number of tickets|\n",
      "+------------------+-----------------+\n",
      "|                NY|          8517686|\n",
      "|                NJ|           925965|\n",
      "|                PA|           285419|\n",
      "|                FL|           144556|\n",
      "|                CT|           141088|\n",
      "|                MA|            85547|\n",
      "|                IN|            80749|\n",
      "|                VA|            72626|\n",
      "|                MD|            61800|\n",
      "|                NC|            55806|\n",
      "|                IL|            37329|\n",
      "|                GA|            36852|\n",
      "|                TX|            36516|\n",
      "|                AZ|            26426|\n",
      "|                OH|            25302|\n",
      "|                CA|            24260|\n",
      "|                SC|            21836|\n",
      "|                ME|            21574|\n",
      "|                MN|            18227|\n",
      "|                OK|            18165|\n",
      "+------------------+-----------------+"
     ]
    }
   ],
   "source": [
    "spark.sql(\"\\\n",
    "            SELECT `Registration State`, COUNT(`Summons Number`) as `Number of tickets`\\\n",
    "            FROM tickets_view\\\n",
    "            GROUP BY `Registration State`\\\n",
    "            ORDER BY `Number of Tickets` DESC\\\n",
    "            LIMIT 20\\\n",
    "            \").show()"
   ]
  },
  {
   "cell_type": "markdown",
   "id": "a6ff0666",
   "metadata": {},
   "source": [
    "# Frequency of top five violation codes"
   ]
  },
  {
   "cell_type": "code",
   "execution_count": 14,
   "id": "f5617960",
   "metadata": {},
   "outputs": [
    {
     "data": {
      "application/vnd.jupyter.widget-view+json": {
       "model_id": "fc8edf86d61d490a9a1d466fe8bf7f29",
       "version_major": 2,
       "version_minor": 0
      },
      "text/plain": [
       "VBox()"
      ]
     },
     "metadata": {},
     "output_type": "display_data"
    },
    {
     "data": {
      "application/vnd.jupyter.widget-view+json": {
       "model_id": "",
       "version_major": 2,
       "version_minor": 0
      },
      "text/plain": [
       "FloatProgress(value=0.0, bar_style='info', description='Progress:', layout=Layout(height='25px', width='50%'),…"
      ]
     },
     "metadata": {},
     "output_type": "display_data"
    },
    {
     "name": "stdout",
     "output_type": "stream",
     "text": [
      "+--------------+--------------------+\n",
      "|Violation Code|Number of violations|\n",
      "+--------------+--------------------+\n",
      "|            21|             1528588|\n",
      "|            36|             1400614|\n",
      "|            38|             1062304|\n",
      "|            14|              893498|\n",
      "|            20|              618593|\n",
      "+--------------+--------------------+"
     ]
    }
   ],
   "source": [
    "spark.sql(\"\\\n",
    "            SELECT `Violation Code`, COUNT(`Summons Number`) as `Number of violations`\\\n",
    "            FROM tickets_view\\\n",
    "            GROUP BY `Violation Code`\\\n",
    "            ORDER BY `Number of violations` DESC\\\n",
    "            LIMIT 5\\\n",
    "            \").show()"
   ]
  },
  {
   "cell_type": "markdown",
   "id": "0a579aad",
   "metadata": {},
   "source": [
    "# Frequency of top five vehicle body type"
   ]
  },
  {
   "cell_type": "code",
   "execution_count": 15,
   "id": "34c05628",
   "metadata": {},
   "outputs": [
    {
     "data": {
      "application/vnd.jupyter.widget-view+json": {
       "model_id": "cf3c9f325af74611a45806d57b92443b",
       "version_major": 2,
       "version_minor": 0
      },
      "text/plain": [
       "VBox()"
      ]
     },
     "metadata": {},
     "output_type": "display_data"
    },
    {
     "data": {
      "application/vnd.jupyter.widget-view+json": {
       "model_id": "",
       "version_major": 2,
       "version_minor": 0
      },
      "text/plain": [
       "FloatProgress(value=0.0, bar_style='info', description='Progress:', layout=Layout(height='25px', width='50%'),…"
      ]
     },
     "metadata": {},
     "output_type": "display_data"
    },
    {
     "name": "stdout",
     "output_type": "stream",
     "text": [
      "+-----------------+-----------------+\n",
      "|Vehicle Body Type|Number of tickets|\n",
      "+-----------------+-----------------+\n",
      "|             SUBN|          3719802|\n",
      "|             4DSD|          3082020|\n",
      "|              VAN|          1411970|\n",
      "|             DELV|           687330|\n",
      "|              SDN|           438191|\n",
      "+-----------------+-----------------+"
     ]
    }
   ],
   "source": [
    "spark.sql(\"\\\n",
    "            SELECT `Vehicle Body Type`, COUNT(`Summons Number`) as `Number of tickets`\\\n",
    "            FROM tickets_view\\\n",
    "            GROUP BY `Vehicle Body Type`\\\n",
    "            ORDER BY `Number of tickets` DESC\\\n",
    "            LIMIT 5\\\n",
    "            \").show()"
   ]
  },
  {
   "cell_type": "markdown",
   "id": "85b3479a",
   "metadata": {},
   "source": [
    "# Frequency of top five vehicle make"
   ]
  },
  {
   "cell_type": "code",
   "execution_count": 16,
   "id": "b58b8fb9",
   "metadata": {},
   "outputs": [
    {
     "data": {
      "application/vnd.jupyter.widget-view+json": {
       "model_id": "b6cdd21ab8d841ec97b9c71df534ebaa",
       "version_major": 2,
       "version_minor": 0
      },
      "text/plain": [
       "VBox()"
      ]
     },
     "metadata": {},
     "output_type": "display_data"
    },
    {
     "data": {
      "application/vnd.jupyter.widget-view+json": {
       "model_id": "",
       "version_major": 2,
       "version_minor": 0
      },
      "text/plain": [
       "FloatProgress(value=0.0, bar_style='info', description='Progress:', layout=Layout(height='25px', width='50%'),…"
      ]
     },
     "metadata": {},
     "output_type": "display_data"
    },
    {
     "name": "stdout",
     "output_type": "stream",
     "text": [
      "+------------+-----------------+\n",
      "|Vehicle Make|Number of tickets|\n",
      "+------------+-----------------+\n",
      "|        FORD|          1280958|\n",
      "|       TOYOT|          1211451|\n",
      "|       HONDA|          1079238|\n",
      "|       NISSA|           918590|\n",
      "|       CHEVR|           714655|\n",
      "+------------+-----------------+"
     ]
    }
   ],
   "source": [
    "spark.sql(\"\\\n",
    "            SELECT `Vehicle Make`, COUNT(`Summons Number`) as `Number of tickets`\\\n",
    "            FROM tickets_view\\\n",
    "            GROUP BY `Vehicle Make`\\\n",
    "            ORDER BY `Number of tickets` DESC\\\n",
    "            LIMIT 5\\\n",
    "            \").show()"
   ]
  },
  {
   "cell_type": "markdown",
   "id": "873131e5",
   "metadata": {},
   "source": [
    "# Divide the data into seasons"
   ]
  },
  {
   "cell_type": "markdown",
   "id": "9891cb49",
   "metadata": {},
   "source": [
    "# Assumptions\n",
    "\n",
    "|Season|Months|\n",
    "|------|------|\n",
    "|Summer|March, April, May|\n",
    "|Monsoon|June, July, August|\n",
    "|Autumn|September, October, November|\n",
    "|Winter|December, January, February|"
   ]
  },
  {
   "cell_type": "markdown",
   "id": "93cfe275",
   "metadata": {},
   "source": [
    "# Casting timestamp as datatype"
   ]
  },
  {
   "cell_type": "code",
   "execution_count": null,
   "id": "8121c63a",
   "metadata": {},
   "outputs": [],
   "source": []
  }
 ],
 "metadata": {
  "kernelspec": {
   "display_name": "PySpark",
   "language": "",
   "name": "pysparkkernel"
  },
  "language_info": {
   "codemirror_mode": {
    "name": "python",
    "version": 2
   },
   "mimetype": "text/x-python",
   "name": "pyspark",
   "pygments_lexer": "python2"
  }
 },
 "nbformat": 4,
 "nbformat_minor": 5
}
